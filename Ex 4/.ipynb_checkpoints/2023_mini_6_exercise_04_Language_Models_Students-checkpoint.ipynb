{
 "cells": [
  {
   "cell_type": "markdown",
   "metadata": {},
   "source": [
    "<img src=\"logo.png\" alt=\"Drawing\" style=\"width: 80px;\"/>\n",
    "\n",
    "# Exercise 4 - Language Models - By Omer Dembinsky\n",
    "\n",
    "In this lesson we will read movie reviews and predict their sentiment (classify based on tagged data , and using Generative AI). \n",
    "\n",
    "Original data from: http://ai.stanford.edu/~amaas/data/sentiment/ (and modified CSV from https://github.com/rasbt/python-machine-learning-book-2nd-edition/tree/master/code/ch08/). \n",
    "\n",
    "This data was contributed by: \n",
    "Maas, Andrew L.  and  Daly, Raymond E.  and  Pham, Peter T.  and  Huang, Dan  and  Ng, Andrew Y.  and  Potts, Christopher, Learning Word Vectors for Sentiment Analysis, Proceedings of the 49th Annual Meeting of the Association for Computational Linguistics: Human Language Technologies, June, 2011, http://www.aclweb.org/anthology/P11-1015\n",
    "\n",
    "A full code solution for Classification model is in: https://github.com/PacktPublishing/Python-Machine-Learning-Second-Edition//blob/master/Chapter08/ch08.ipynb\n",
    "\n",
    "Good explanation in: https://stackabuse.com/text-classification-with-python-and-scikit-learn/\n",
    "\n",
    "### 1. Imports"
   ]
  },
  {
   "cell_type": "code",
   "execution_count": 2,
   "metadata": {},
   "outputs": [],
   "source": [
    "import pandas as pd \n",
    "import numpy as np  \n",
    "import matplotlib.pyplot as plt "
   ]
  },
  {
   "cell_type": "code",
   "execution_count": 3,
   "metadata": {},
   "outputs": [],
   "source": [
    "# This is a classification model\n",
    "from sklearn import ensemble\n",
    "from sklearn.metrics import confusion_matrix\n",
    "from sklearn.metrics import classification_report # Produces a table of precision_score, recall_score\n",
    "from sklearn.model_selection import train_test_split\n",
    "from sklearn.metrics import confusion_matrix, precision_score, recall_score\n",
    "\n",
    "from sklearn.feature_extraction.text import TfidfVectorizer"
   ]
  },
  {
   "cell_type": "markdown",
   "metadata": {},
   "source": [
    "Packages for text analytics:"
   ]
  },
  {
   "cell_type": "code",
   "execution_count": 5,
   "metadata": {},
   "outputs": [],
   "source": [
    "import re #regex package\n",
    "import nltk\n",
    "# nltk.download()  # Download text data sets, including stop words. This takes very long time, so run it only if needed"
   ]
  },
  {
   "cell_type": "markdown",
   "metadata": {},
   "source": [
    "### 2. Read the movie reviews data"
   ]
  },
  {
   "cell_type": "code",
   "execution_count": 7,
   "metadata": {},
   "outputs": [],
   "source": [
    "df = pd.read_csv('movie_data.csv')"
   ]
  },
  {
   "cell_type": "code",
   "execution_count": 8,
   "metadata": {},
   "outputs": [
    {
     "name": "stdout",
     "output_type": "stream",
     "text": [
      "<class 'pandas.core.frame.DataFrame'>\n",
      "RangeIndex: 50000 entries, 0 to 49999\n",
      "Data columns (total 2 columns):\n",
      " #   Column     Non-Null Count  Dtype \n",
      "---  ------     --------------  ----- \n",
      " 0   review     50000 non-null  object\n",
      " 1   sentiment  50000 non-null  int64 \n",
      "dtypes: int64(1), object(1)\n",
      "memory usage: 781.4+ KB\n"
     ]
    }
   ],
   "source": [
    "df.info()"
   ]
  },
  {
   "cell_type": "code",
   "execution_count": 9,
   "metadata": {
    "scrolled": true
   },
   "outputs": [
    {
     "data": {
      "text/html": [
       "<div>\n",
       "<style scoped>\n",
       "    .dataframe tbody tr th:only-of-type {\n",
       "        vertical-align: middle;\n",
       "    }\n",
       "\n",
       "    .dataframe tbody tr th {\n",
       "        vertical-align: top;\n",
       "    }\n",
       "\n",
       "    .dataframe thead th {\n",
       "        text-align: right;\n",
       "    }\n",
       "</style>\n",
       "<table border=\"1\" class=\"dataframe\">\n",
       "  <thead>\n",
       "    <tr style=\"text-align: right;\">\n",
       "      <th></th>\n",
       "      <th>review</th>\n",
       "      <th>sentiment</th>\n",
       "    </tr>\n",
       "  </thead>\n",
       "  <tbody>\n",
       "    <tr>\n",
       "      <th>0</th>\n",
       "      <td>In 1974, the teenager Martha Moxley (Maggie Gr...</td>\n",
       "      <td>1</td>\n",
       "    </tr>\n",
       "    <tr>\n",
       "      <th>1</th>\n",
       "      <td>OK... so... I really like Kris Kristofferson a...</td>\n",
       "      <td>0</td>\n",
       "    </tr>\n",
       "    <tr>\n",
       "      <th>2</th>\n",
       "      <td>***SPOILER*** Do not read this, if you think a...</td>\n",
       "      <td>0</td>\n",
       "    </tr>\n",
       "    <tr>\n",
       "      <th>3</th>\n",
       "      <td>hi for all the people who have seen this wonde...</td>\n",
       "      <td>1</td>\n",
       "    </tr>\n",
       "    <tr>\n",
       "      <th>4</th>\n",
       "      <td>I recently bought the DVD, forgetting just how...</td>\n",
       "      <td>0</td>\n",
       "    </tr>\n",
       "  </tbody>\n",
       "</table>\n",
       "</div>"
      ],
      "text/plain": [
       "                                              review  sentiment\n",
       "0  In 1974, the teenager Martha Moxley (Maggie Gr...          1\n",
       "1  OK... so... I really like Kris Kristofferson a...          0\n",
       "2  ***SPOILER*** Do not read this, if you think a...          0\n",
       "3  hi for all the people who have seen this wonde...          1\n",
       "4  I recently bought the DVD, forgetting just how...          0"
      ]
     },
     "execution_count": 9,
     "metadata": {},
     "output_type": "execute_result"
    }
   ],
   "source": [
    "df.head()"
   ]
  },
  {
   "cell_type": "code",
   "execution_count": 10,
   "metadata": {},
   "outputs": [
    {
     "data": {
      "text/plain": [
       "1    25000\n",
       "0    25000\n",
       "Name: sentiment, dtype: int64"
      ]
     },
     "execution_count": 10,
     "metadata": {},
     "output_type": "execute_result"
    }
   ],
   "source": [
    "df['sentiment'].value_counts()"
   ]
  },
  {
   "cell_type": "markdown",
   "metadata": {},
   "source": [
    "### 3. Split data to train and test\n",
    "Before creating a bag of words split the data to train and test"
   ]
  },
  {
   "cell_type": "code",
   "execution_count": 12,
   "metadata": {},
   "outputs": [],
   "source": [
    "X_train, X_test, y_train, y_test = train_test_split(df.values[:,0], df.values[:,1], test_size=0.3, random_state=0)"
   ]
  },
  {
   "cell_type": "code",
   "execution_count": 13,
   "metadata": {},
   "outputs": [
    {
     "name": "stdout",
     "output_type": "stream",
     "text": [
      "There are  17342  Positive sentiments out of  35000\n"
     ]
    }
   ],
   "source": [
    "#Verify y is diverse enough:\n",
    "print(\"There are \",y_train.sum(),\" Positive sentiments out of \",y_train.shape[0])"
   ]
  },
  {
   "cell_type": "markdown",
   "metadata": {},
   "source": [
    "### 4. Step by step example\n",
    "\n",
    "#### 4.1 Clean the data\n",
    "\n",
    "This stage is optional as (most of) the cleaning can be done in the TfIdf command.\n",
    "The cleaning can be done before the split.\n",
    "\n",
    "Demonstrated below are:\n",
    "1. Change all text to lower case.\n",
    "2. Remove characters that are not a letter"
   ]
  },
  {
   "cell_type": "code",
   "execution_count": 15,
   "metadata": {},
   "outputs": [
    {
     "data": {
      "text/html": [
       "<div>\n",
       "<style scoped>\n",
       "    .dataframe tbody tr th:only-of-type {\n",
       "        vertical-align: middle;\n",
       "    }\n",
       "\n",
       "    .dataframe tbody tr th {\n",
       "        vertical-align: top;\n",
       "    }\n",
       "\n",
       "    .dataframe thead th {\n",
       "        text-align: right;\n",
       "    }\n",
       "</style>\n",
       "<table border=\"1\" class=\"dataframe\">\n",
       "  <thead>\n",
       "    <tr style=\"text-align: right;\">\n",
       "      <th></th>\n",
       "      <th>review</th>\n",
       "      <th>sentiment</th>\n",
       "    </tr>\n",
       "  </thead>\n",
       "  <tbody>\n",
       "    <tr>\n",
       "      <th>0</th>\n",
       "      <td>in 1974, the teenager martha moxley (maggie gr...</td>\n",
       "      <td>1</td>\n",
       "    </tr>\n",
       "    <tr>\n",
       "      <th>1</th>\n",
       "      <td>ok... so... i really like kris kristofferson a...</td>\n",
       "      <td>0</td>\n",
       "    </tr>\n",
       "    <tr>\n",
       "      <th>2</th>\n",
       "      <td>***spoiler*** do not read this, if you think a...</td>\n",
       "      <td>0</td>\n",
       "    </tr>\n",
       "    <tr>\n",
       "      <th>3</th>\n",
       "      <td>hi for all the people who have seen this wonde...</td>\n",
       "      <td>1</td>\n",
       "    </tr>\n",
       "    <tr>\n",
       "      <th>4</th>\n",
       "      <td>i recently bought the dvd, forgetting just how...</td>\n",
       "      <td>0</td>\n",
       "    </tr>\n",
       "  </tbody>\n",
       "</table>\n",
       "</div>"
      ],
      "text/plain": [
       "                                              review  sentiment\n",
       "0  in 1974, the teenager martha moxley (maggie gr...          1\n",
       "1  ok... so... i really like kris kristofferson a...          0\n",
       "2  ***spoiler*** do not read this, if you think a...          0\n",
       "3  hi for all the people who have seen this wonde...          1\n",
       "4  i recently bought the dvd, forgetting just how...          0"
      ]
     },
     "execution_count": 15,
     "metadata": {},
     "output_type": "execute_result"
    }
   ],
   "source": [
    "df['review']=df.review.str.lower() #Lowercase on entire text, so capitalized word is not counted separately\n",
    "df.head()"
   ]
  },
  {
   "cell_type": "code",
   "execution_count": 16,
   "metadata": {},
   "outputs": [
    {
     "name": "stderr",
     "output_type": "stream",
     "text": [
      "/tmp/ipykernel_150/2849496370.py:1: FutureWarning: The default value of regex will change from True to False in a future version.\n",
      "  df.review = df.review.str.replace( '[^a-z]', ' ') # Replace any non-textual character with space\n"
     ]
    },
    {
     "data": {
      "text/html": [
       "<div>\n",
       "<style scoped>\n",
       "    .dataframe tbody tr th:only-of-type {\n",
       "        vertical-align: middle;\n",
       "    }\n",
       "\n",
       "    .dataframe tbody tr th {\n",
       "        vertical-align: top;\n",
       "    }\n",
       "\n",
       "    .dataframe thead th {\n",
       "        text-align: right;\n",
       "    }\n",
       "</style>\n",
       "<table border=\"1\" class=\"dataframe\">\n",
       "  <thead>\n",
       "    <tr style=\"text-align: right;\">\n",
       "      <th></th>\n",
       "      <th>review</th>\n",
       "      <th>sentiment</th>\n",
       "    </tr>\n",
       "  </thead>\n",
       "  <tbody>\n",
       "    <tr>\n",
       "      <th>0</th>\n",
       "      <td>in       the teenager martha moxley  maggie gr...</td>\n",
       "      <td>1</td>\n",
       "    </tr>\n",
       "    <tr>\n",
       "      <th>1</th>\n",
       "      <td>ok    so    i really like kris kristofferson a...</td>\n",
       "      <td>0</td>\n",
       "    </tr>\n",
       "    <tr>\n",
       "      <th>2</th>\n",
       "      <td>spoiler    do not read this  if you think a...</td>\n",
       "      <td>0</td>\n",
       "    </tr>\n",
       "    <tr>\n",
       "      <th>3</th>\n",
       "      <td>hi for all the people who have seen this wonde...</td>\n",
       "      <td>1</td>\n",
       "    </tr>\n",
       "    <tr>\n",
       "      <th>4</th>\n",
       "      <td>i recently bought the dvd  forgetting just how...</td>\n",
       "      <td>0</td>\n",
       "    </tr>\n",
       "  </tbody>\n",
       "</table>\n",
       "</div>"
      ],
      "text/plain": [
       "                                              review  sentiment\n",
       "0  in       the teenager martha moxley  maggie gr...          1\n",
       "1  ok    so    i really like kris kristofferson a...          0\n",
       "2     spoiler    do not read this  if you think a...          0\n",
       "3  hi for all the people who have seen this wonde...          1\n",
       "4  i recently bought the dvd  forgetting just how...          0"
      ]
     },
     "execution_count": 16,
     "metadata": {},
     "output_type": "execute_result"
    }
   ],
   "source": [
    "df.review = df.review.str.replace( '[^a-z]', ' ') # Replace any non-textual character with space\n",
    "df.head()"
   ]
  },
  {
   "cell_type": "markdown",
   "metadata": {},
   "source": [
    "You can further anotate movie names (replace each specific movie name with a general tag), as well as people names. To do so, there is a special package in: https://imdbpy.sourceforge.io/. \n",
    "\n",
    "Annotation requires long detailed mapping of words. Yet, there are many open source annotations for many areas."
   ]
  },
  {
   "cell_type": "markdown",
   "metadata": {},
   "source": [
    "#### 4.2. Create tf-idf bag of words\n",
    "The bag of words creation will be with TfidfVectorizer, fitting to X_train"
   ]
  },
  {
   "cell_type": "code",
   "execution_count": 19,
   "metadata": {},
   "outputs": [],
   "source": [
    "tf_idf_vec = TfidfVectorizer(ngram_range=(1,1), lowercase=True, stop_words=None)"
   ]
  },
  {
   "cell_type": "code",
   "execution_count": 20,
   "metadata": {},
   "outputs": [],
   "source": [
    "X_train_bag = tf_idf_vec.fit_transform(X_train)  # note we do both the fit and transform on train"
   ]
  },
  {
   "cell_type": "code",
   "execution_count": 21,
   "metadata": {},
   "outputs": [
    {
     "name": "stdout",
     "output_type": "stream",
     "text": [
      "size of X_train_bag is: (35000, 87866)\n",
      "there are  3075310000  elements in the matrix\n"
     ]
    }
   ],
   "source": [
    "print (\"size of X_train_bag is:\", X_train_bag.shape)\n",
    "print (\"there are \", X_train_bag.shape[0]*X_train_bag.shape[1], \" elements in the matrix\" )"
   ]
  },
  {
   "cell_type": "code",
   "execution_count": 22,
   "metadata": {},
   "outputs": [
    {
     "data": {
      "text/plain": [
       "<35000x87866 sparse matrix of type '<class 'numpy.float64'>'\n",
       "\twith 4771837 stored elements in Compressed Sparse Row format>"
      ]
     },
     "execution_count": 22,
     "metadata": {},
     "output_type": "execute_result"
    }
   ],
   "source": [
    "X_train_bag"
   ]
  },
  {
   "cell_type": "code",
   "execution_count": 23,
   "metadata": {},
   "outputs": [],
   "source": [
    "words = tf_idf_vec.get_feature_names_out()"
   ]
  },
  {
   "cell_type": "code",
   "execution_count": 24,
   "metadata": {},
   "outputs": [
    {
     "data": {
      "text/plain": [
       "array(['bacula', 'bad', 'badalamenti', 'badalucco', 'badanov', 'badass',\n",
       "       'badassdom', 'badasses', 'badassness', 'badat'], dtype=object)"
      ]
     },
     "execution_count": 24,
     "metadata": {},
     "output_type": "execute_result"
    }
   ],
   "source": [
    "words[6520:6530]"
   ]
  },
  {
   "cell_type": "code",
   "execution_count": 25,
   "metadata": {},
   "outputs": [
    {
     "data": {
      "text/plain": [
       "array([1.30021176e-01, 4.89991661e+02, 6.83669459e-01, 8.28327199e-02,\n",
       "       2.20184840e-01, 2.59200002e+00, 8.05290509e-02, 1.21376691e-01,\n",
       "       4.23959822e-02, 4.23848580e-02])"
      ]
     },
     "execution_count": 25,
     "metadata": {},
     "output_type": "execute_result"
    }
   ],
   "source": [
    "#show overall \"strength\" of some words\n",
    "tfidftotal = np.empty(shape=X_train_bag.shape[1])\n",
    "for i in range(6520,6530):\n",
    "    tfidftotal[i]=(X_train_bag[:,i].sum())\n",
    "tfidftotal[6520:6530]"
   ]
  },
  {
   "cell_type": "markdown",
   "metadata": {},
   "source": [
    "### 5. Run Model based on tf_idf "
   ]
  },
  {
   "cell_type": "code",
   "execution_count": 27,
   "metadata": {},
   "outputs": [],
   "source": [
    "gb_tfidf = ensemble.GradientBoostingClassifier()"
   ]
  },
  {
   "cell_type": "code",
   "execution_count": 28,
   "metadata": {},
   "outputs": [],
   "source": [
    "#Small test to check model and data, as the full data can take a very long time to run\n",
    "#y_train_small = y_train[0:200]\n",
    "#X_train_bag_small = X_train_bag[0:200]\n",
    "#gb_tfidf.fit(X_train_bag_small, y_train_small.astype('int'))"
   ]
  },
  {
   "cell_type": "code",
   "execution_count": 102,
   "metadata": {},
   "outputs": [
    {
     "data": {
      "text/plain": [
       "GradientBoostingClassifier()"
      ]
     },
     "execution_count": 102,
     "metadata": {},
     "output_type": "execute_result"
    }
   ],
   "source": [
    "#Fit model on bag-of-words\n",
    "gb_tfidf.fit(X_train_bag, y_train.astype('int')) "
   ]
  },
  {
   "cell_type": "code",
   "execution_count": 105,
   "metadata": {},
   "outputs": [],
   "source": [
    "#Run prediction on Test\n",
    "y_test_pred = gb_tfidf.predict(tf_idf_vec.transform(X_test)) # note we do ONLY transform on test data"
   ]
  },
  {
   "cell_type": "code",
   "execution_count": 107,
   "metadata": {},
   "outputs": [
    {
     "name": "stdout",
     "output_type": "stream",
     "text": [
      "Confusion Matrix : \n",
      " [[5652 1690]\n",
      " [1068 6590]] \n",
      "\n",
      "The precision  is  0.7958937198067633\n",
      "The recall is  0.8605379994776704 \n",
      "\n"
     ]
    }
   ],
   "source": [
    "print(\"Confusion Matrix : \\n\", confusion_matrix(y_test.astype('int'), y_test_pred),\"\\n\")\n",
    "print(\"The precision  is \",precision_score(y_test.astype('int'), y_test_pred)) \n",
    "print(\"The recall is \",recall_score(y_test.astype('int'), y_test_pred),\"\\n\")  "
   ]
  },
  {
   "cell_type": "code",
   "execution_count": 32,
   "metadata": {},
   "outputs": [
    {
     "name": "stdout",
     "output_type": "stream",
     "text": [
      "This movie is about Tyrannus, a gladiator who is brought back from the dead to summon Tyrannus, a gladiator who must be brought back from the dead. Tyrannus, we learn after about an hour, is also called Demonicus. This adds much needed depth to the screenplay and calls into question our assumptions about identity, psychology and ourselves. <br /><br />The spirit of Tyrannus accomplishes his little to-do list (killing some people and saying repetitive phrases in Latin) by possessing the body of a college guy. He uses a magic mind-control helmet to do this, which the college boy willingly puts on his head, and then at several points in the movie, takes off and puts back on.<br /><br />Maria performs oral sex on a poor man's Sean Willian Scott, and Tyrannus wears the Rollerball glove. Tyrannus has his own green backlighting for no reason, and has apparently been sitting next to CG fire in an ancient concrete tunnel for centuries like this. Utter misfortune.<br /><br />This movie is empty and will hurt you. See it.\n",
      "\n",
      " predicted sentiment is:  0\n",
      "\n",
      " real sentiment is:  0 \n",
      "\n",
      "\n",
      "This is one odd film. It seems to be aimed at a younger audience, but is filled with sexual innuendos. The whole premise is rather absurd, not just the idea of some shrunken heads of three dead kids doing some crime fighting, but the same said kids taking on a gang of tough older guys is a little far-fetched, but then again, the parents are mainly absent in the film and there is a lack of authority figures to keep the kids in line.<br /><br />The cast are good though, Meg Foster plays a very butch mafia-like leader, with the handsome A.J. Damato as the leader of the bullies. Aerky Egan and Rebecca Herbst are well cast as the young lovers, though for a comic actress of her talent, Leigh Allyn Baker is notoriously wasted in this film.<br /><br />Overall, the film is unusual, but I don't think that is enough to make up for the poor quality and bumbling execution. The scenery is all rather dull and the \"special effects\" quite dismal. Sit this one out, unless your in the mood.\n",
      "\n",
      " predicted sentiment is:  0\n",
      "\n",
      " real sentiment is:  0 \n",
      "\n",
      "\n",
      "this was one of the worst movies I've ever seen. I'm still not sure if it was serious, or just a satire. One of those movies that uses every stupid who dunnit cliché they can think of. Arrrrgh.<br /><br />Don Johnson was pretty good in it actually. But otherwise it sucked. It was over 10 years ago that I saw it, but it still hurts and won't stop lingering in my brain. <br /><br />The last line in the movie really sums up how stupid it is. I won't ruin it for you, should you want to tempt fate by viewing this movie. But I garantee you a *nghya* moment at the end, with a few in between. If you have nothing better to do, and you like to point and laugh, then maybe it might be worth your while. Additionally, if you're forced to go on a date with someone you really don't like, suggest watching this movie together, and they'll probably leave you alone after they see it. That's a fair price to pay, I guess.\n",
      "\n",
      " predicted sentiment is:  0\n",
      "\n",
      " real sentiment is:  0 \n",
      "\n",
      "\n",
      "I went to see this movie twice within a week and can only sum it up in one word (which I normally don't use lightly): Wonderful! In my view, the best movie ever made. Who deserves Oscars and other awards if not this Swedish crew who have created cinematic perfection in the last scenes of the film, when everything that is said (and left unsaid) throughout the story is drawn together? Just as the character of Daniel Dareus evokes so many sentiments and long repressed feelings within the people around him, the movie does the same to its viewers: You walk out with your head abuzz and your heart feeling full. Great stuff! Next time you ask yourself \"what is the meaning of life\", perhaps think about how you feel after a sumptuous experience like As it is in Heaven: Happy, content, fulfilled. To say it with Virginia Woolf's Mrs Dalloway: \"Such moments are enough\".\n",
      "\n",
      " predicted sentiment is:  1\n",
      "\n",
      " real sentiment is:  1 \n",
      "\n",
      "\n",
      "One of the most appealing elements of a Gilliam film is that the well-concocted visuals, the unsettling backdrops, and the manically frustrated characters are evidence of the creator's involvement. Instead of most movies (where the filmmaker is some director-for-hire that is paid to feature a star or two), you can feel Terry Gilliam's presence through the experience. \"12 Monkeys\" is evidence of Gilliam's own vision and style, as opposed to making offbeat movies for their own sake. \"12 Monkeys\" is a variation on similar themes of Gilliam's repertoire:oppressive/recessive societies, the solitude of the protagonist, the frustration associated with disbelief, and parallel realms. In this film Gilliam does a fine job of blurring lines between the two realms, using ambiguities to force the audience to believe rather than know. This tendency for Gilliam to neglect to fill in certain gaps leads to criticisms of art-house pretentiousness. The difference between Gilliam and artsy posers is that Gilliam's choices clearly have a purpose and all of his images have meaning. The two nearly identical bathing scenes of Cole in the beginning are meant to draw comparisons which leave the audience unsettled. His bald head is a mark of uniformity in the disease-ridden future world, yet makes him recognizable in the 1996 world. The title itself is a mark of Gilliam's creativity, as it requires the majority of the story to flesh out for its meaning to be fully understood. All in all, Gilliam's dedication to making creative films that are interesting to watch yet also require thought and interpretation from the audience. The film has immense re-watch value, since there are subtle details and hints that can be missed upon the first viewing. Definitely one of my favorites.\n",
      "\n",
      " predicted sentiment is:  1\n",
      "\n",
      " real sentiment is:  1 \n",
      "\n",
      "\n",
      "Quite liked Flesh and looking forward to Heat but couldn't help but feel Morrissey grossly exploited most of the \"performers\" featured here. Stumbling around naked in a narcotic stupor seems to be all Dallesandro was capable of in this feature--a huge and heartbreaking contrast from Flesh. His semi-erection in a few scenes is the only indication that he might be acting; mostly it looks like something he did to buy drugs. Woodlawn is a revelation all right--she is the embodiment of the Lower East Side. But hers is a one woman show--she rarely engages the other performers though, it has to be said, her sex scene with a beer bottle definitely leaves Halle Berry in the shade when it comes to cinematic displays of raw passion. When she pounces on a young, would-be lover it is with the ferocity of a vampire. Two of the female performers, Andrea and Jane, have such annoying voices you'll have to mute the sound to get through their scenes. The fact that several of these performers committed suicide or were murdered a few years after only adds to the air of exploitation. But they were probably desperate to get in front of Morrissey's camera anyway. There probably isn't a worse way to spend a Saturday night but at least it brings a specific time and place vividly to life.\n",
      "\n",
      " predicted sentiment is:  0\n",
      "\n",
      " real sentiment is:  0 \n",
      "\n",
      "\n",
      "As is the case with many films of this ilk, my non Catholicism got in the way of my understanding it. The church has this mass of rules which have been put together over centuries. We have a short time to learn them and have to accept them at face value. Then, throw in some bad guys getting revenge for a long distant act against them, working under these rules and attempting to circumvent them, and you have this book and movie. I found myself thinking, \"That's pretty cool. Why did they do that?\" There's this casual thing in the Robert Langdon character where no matter what the issue, he seems to always make the right first move. I suppose it's like watching CSI where they solve incredibly complex cases in a matter of days. They know the lay of the land. In this film, there is so much land and so little time to really understand everything that is going on. But if you create Robert Langdon, you need to set him to work. That's OK because heroic nerds like him have been saving the day forever. I thought the film was fun. I thought the Da Vinci Code was fun too. Interesting and not as bad as people seemed to think. This is a marvel to look at and never stops for a second.\n",
      "\n",
      " predicted sentiment is:  0\n",
      "\n",
      " real sentiment is:  1 \n",
      "\n",
      "\n",
      "Amazing movie that, in theory, should be boring but is delivered with subtlety and incredible acting that I have long despaired of ever finding. Instead of relying on clichés and overly dramatized moments the plot unfolds through a series of incredibly realistic moments. The lead characters are not perfect, and so relating to them as people you could know is easy. The movie is not trying to pull laughs, or push an ideal onto the audience but simply showing us the possibility of true love in any circumstance. <br /><br />I am now restless waiting for the weekend so I can see the sequel. A moving, thought provoking, funny look at love that I think should be an absolute romantic classic up there with Casablanca and Breakfast at Tiffany's. Will soften even the hardiest heart.\n",
      "\n",
      " predicted sentiment is:  1\n",
      "\n",
      " real sentiment is:  1 \n",
      "\n",
      "\n",
      "Okay, I can sit through almost any movie, and I tend to get a real kick out of Sci Fi Originals, but there was a major flaw in this movie that made me have to turn it off half an hour into it.<br /><br />Having served in the US Army, there are certain expectations in a movie including the military. At least some semblance of attention to proper military rank, uniform, and terminology is necessary if you expect a viewer to actually enjoy the experience. \"Bats: Human Harvest\" had characters wearing rank that was facing the wrong direction on the lapel and, later in the movie, the time was listed as 11:00 hours, but it was full dark outside. Even if the script was perfectly done, and the dialogue spectacular, and the acting Oscar-worthy, if the people making the movie don't care enough about the movie to even bother to look up the proper way to display military time, why should anybody bother to attempt to watch it?\n",
      "\n",
      " predicted sentiment is:  0\n",
      "\n",
      " real sentiment is:  0 \n",
      "\n",
      "\n",
      "Shame on Julia Roberts and John Cusack. They are so talented and should not have had any part in this movie. The storyline was dumb and predictable. The jokes were not funny. The romance was not really romance. I was all too happy when this movie ended.\n",
      "\n",
      " predicted sentiment is:  1\n",
      "\n",
      " real sentiment is:  0 \n",
      "\n",
      "\n"
     ]
    }
   ],
   "source": [
    "#look at some examples\n",
    "for i in range (10,20):\n",
    "    print(X_test[i])\n",
    "    print (\"\\n predicted sentiment is: \",y_test_pred[i])\n",
    "    print (\"\\n real sentiment is: \",y_test[i],\"\\n\\n\")"
   ]
  },
  {
   "cell_type": "markdown",
   "metadata": {},
   "source": [
    "## Now - Let's try to do the same on the original data with ChatGPT"
   ]
  },
  {
   "cell_type": "code",
   "execution_count": 47,
   "metadata": {},
   "outputs": [],
   "source": [
    "# Running on a sample of the data to avoid accodently wasting too much money\n",
    "df_for_chatgpt = df.head(20)"
   ]
  },
  {
   "cell_type": "code",
   "execution_count": 48,
   "metadata": {},
   "outputs": [
    {
     "name": "stdout",
     "output_type": "stream",
     "text": [
      "                                               review  sentiment\n",
      "0   in       the teenager martha moxley  maggie gr...          1\n",
      "1   ok    so    i really like kris kristofferson a...          0\n",
      "2      spoiler    do not read this  if you think a...          0\n",
      "3   hi for all the people who have seen this wonde...          1\n",
      "4   i recently bought the dvd  forgetting just how...          0\n",
      "5   leave it to braik to put on a good show  final...          1\n",
      "6   nathan detroit  frank sinatra  is the manager ...          1\n",
      "7   to understand  crash course  in the right cont...          1\n",
      "8   i ve been impressed with chavez s stance again...          1\n",
      "9   this movie is directed by renny harlin the fin...          1\n",
      "10  i once lived in the u p and let me tell you wh...          0\n",
      "11  hidden frontier is notable for being the longe...          1\n",
      "12  it s a while ago  that i have seen sleuth     ...          0\n",
      "13  what is it about the french  first  they  appa...          0\n",
      "14  this very strange movie is unlike anything mad...          1\n",
      "15  i saw this movie on the strength of the single...          0\n",
      "16  there are some great philosophical questions  ...          0\n",
      "17  i was cast as the surfer dude in the beach sce...          1\n",
      "18  i had high hopes for this one until they chang...          0\n",
      "19  set in and near a poor working class town in t...          1\n"
     ]
    }
   ],
   "source": [
    "print(df_for_chatgpt)"
   ]
  },
  {
   "cell_type": "markdown",
   "metadata": {},
   "source": [
    "### Below code taken from asking ChatGPT and Bard (following initial errors in running)"
   ]
  },
  {
   "cell_type": "code",
   "execution_count": 50,
   "metadata": {},
   "outputs": [
    {
     "name": "stderr",
     "output_type": "stream",
     "text": [
      "/tmp/ipykernel_150/684073884.py:23: SettingWithCopyWarning: \n",
      "A value is trying to be set on a copy of a slice from a DataFrame.\n",
      "Try using .loc[row_indexer,col_indexer] = value instead\n",
      "\n",
      "See the caveats in the documentation: https://pandas.pydata.org/pandas-docs/stable/user_guide/indexing.html#returning-a-view-versus-a-copy\n",
      "  df_for_chatgpt[\"sentiment_chatgpt\"] = df_for_chatgpt[\"review\"].apply(analyze_sentiment_chatgpt)\n"
     ]
    },
    {
     "data": {
      "text/html": [
       "<div>\n",
       "<style scoped>\n",
       "    .dataframe tbody tr th:only-of-type {\n",
       "        vertical-align: middle;\n",
       "    }\n",
       "\n",
       "    .dataframe tbody tr th {\n",
       "        vertical-align: top;\n",
       "    }\n",
       "\n",
       "    .dataframe thead th {\n",
       "        text-align: right;\n",
       "    }\n",
       "</style>\n",
       "<table border=\"1\" class=\"dataframe\">\n",
       "  <thead>\n",
       "    <tr style=\"text-align: right;\">\n",
       "      <th></th>\n",
       "      <th>review</th>\n",
       "      <th>sentiment</th>\n",
       "      <th>sentiment_chatgpt</th>\n",
       "    </tr>\n",
       "  </thead>\n",
       "  <tbody>\n",
       "    <tr>\n",
       "      <th>0</th>\n",
       "      <td>in       the teenager martha moxley  maggie gr...</td>\n",
       "      <td>1</td>\n",
       "      <td>1</td>\n",
       "    </tr>\n",
       "    <tr>\n",
       "      <th>1</th>\n",
       "      <td>ok    so    i really like kris kristofferson a...</td>\n",
       "      <td>0</td>\n",
       "      <td>0</td>\n",
       "    </tr>\n",
       "    <tr>\n",
       "      <th>2</th>\n",
       "      <td>spoiler    do not read this  if you think a...</td>\n",
       "      <td>0</td>\n",
       "      <td>0</td>\n",
       "    </tr>\n",
       "    <tr>\n",
       "      <th>3</th>\n",
       "      <td>hi for all the people who have seen this wonde...</td>\n",
       "      <td>1</td>\n",
       "      <td>1</td>\n",
       "    </tr>\n",
       "    <tr>\n",
       "      <th>4</th>\n",
       "      <td>i recently bought the dvd  forgetting just how...</td>\n",
       "      <td>0</td>\n",
       "      <td>0</td>\n",
       "    </tr>\n",
       "    <tr>\n",
       "      <th>5</th>\n",
       "      <td>leave it to braik to put on a good show  final...</td>\n",
       "      <td>1</td>\n",
       "      <td>1</td>\n",
       "    </tr>\n",
       "    <tr>\n",
       "      <th>6</th>\n",
       "      <td>nathan detroit  frank sinatra  is the manager ...</td>\n",
       "      <td>1</td>\n",
       "      <td>1</td>\n",
       "    </tr>\n",
       "    <tr>\n",
       "      <th>7</th>\n",
       "      <td>to understand  crash course  in the right cont...</td>\n",
       "      <td>1</td>\n",
       "      <td>1</td>\n",
       "    </tr>\n",
       "    <tr>\n",
       "      <th>8</th>\n",
       "      <td>i ve been impressed with chavez s stance again...</td>\n",
       "      <td>1</td>\n",
       "      <td>1</td>\n",
       "    </tr>\n",
       "    <tr>\n",
       "      <th>9</th>\n",
       "      <td>this movie is directed by renny harlin the fin...</td>\n",
       "      <td>1</td>\n",
       "      <td>1</td>\n",
       "    </tr>\n",
       "    <tr>\n",
       "      <th>10</th>\n",
       "      <td>i once lived in the u p and let me tell you wh...</td>\n",
       "      <td>0</td>\n",
       "      <td>0</td>\n",
       "    </tr>\n",
       "    <tr>\n",
       "      <th>11</th>\n",
       "      <td>hidden frontier is notable for being the longe...</td>\n",
       "      <td>1</td>\n",
       "      <td>1</td>\n",
       "    </tr>\n",
       "    <tr>\n",
       "      <th>12</th>\n",
       "      <td>it s a while ago  that i have seen sleuth     ...</td>\n",
       "      <td>0</td>\n",
       "      <td>0</td>\n",
       "    </tr>\n",
       "    <tr>\n",
       "      <th>13</th>\n",
       "      <td>what is it about the french  first  they  appa...</td>\n",
       "      <td>0</td>\n",
       "      <td>0</td>\n",
       "    </tr>\n",
       "    <tr>\n",
       "      <th>14</th>\n",
       "      <td>this very strange movie is unlike anything mad...</td>\n",
       "      <td>1</td>\n",
       "      <td>1</td>\n",
       "    </tr>\n",
       "    <tr>\n",
       "      <th>15</th>\n",
       "      <td>i saw this movie on the strength of the single...</td>\n",
       "      <td>0</td>\n",
       "      <td>0</td>\n",
       "    </tr>\n",
       "    <tr>\n",
       "      <th>16</th>\n",
       "      <td>there are some great philosophical questions  ...</td>\n",
       "      <td>0</td>\n",
       "      <td>0</td>\n",
       "    </tr>\n",
       "    <tr>\n",
       "      <th>17</th>\n",
       "      <td>i was cast as the surfer dude in the beach sce...</td>\n",
       "      <td>1</td>\n",
       "      <td>1</td>\n",
       "    </tr>\n",
       "    <tr>\n",
       "      <th>18</th>\n",
       "      <td>i had high hopes for this one until they chang...</td>\n",
       "      <td>0</td>\n",
       "      <td>0</td>\n",
       "    </tr>\n",
       "    <tr>\n",
       "      <th>19</th>\n",
       "      <td>set in and near a poor working class town in t...</td>\n",
       "      <td>1</td>\n",
       "      <td>1</td>\n",
       "    </tr>\n",
       "  </tbody>\n",
       "</table>\n",
       "</div>"
      ],
      "text/plain": [
       "                                               review  sentiment  \\\n",
       "0   in       the teenager martha moxley  maggie gr...          1   \n",
       "1   ok    so    i really like kris kristofferson a...          0   \n",
       "2      spoiler    do not read this  if you think a...          0   \n",
       "3   hi for all the people who have seen this wonde...          1   \n",
       "4   i recently bought the dvd  forgetting just how...          0   \n",
       "5   leave it to braik to put on a good show  final...          1   \n",
       "6   nathan detroit  frank sinatra  is the manager ...          1   \n",
       "7   to understand  crash course  in the right cont...          1   \n",
       "8   i ve been impressed with chavez s stance again...          1   \n",
       "9   this movie is directed by renny harlin the fin...          1   \n",
       "10  i once lived in the u p and let me tell you wh...          0   \n",
       "11  hidden frontier is notable for being the longe...          1   \n",
       "12  it s a while ago  that i have seen sleuth     ...          0   \n",
       "13  what is it about the french  first  they  appa...          0   \n",
       "14  this very strange movie is unlike anything mad...          1   \n",
       "15  i saw this movie on the strength of the single...          0   \n",
       "16  there are some great philosophical questions  ...          0   \n",
       "17  i was cast as the surfer dude in the beach sce...          1   \n",
       "18  i had high hopes for this one until they chang...          0   \n",
       "19  set in and near a poor working class town in t...          1   \n",
       "\n",
       "    sentiment_chatgpt  \n",
       "0                   1  \n",
       "1                   0  \n",
       "2                   0  \n",
       "3                   1  \n",
       "4                   0  \n",
       "5                   1  \n",
       "6                   1  \n",
       "7                   1  \n",
       "8                   1  \n",
       "9                   1  \n",
       "10                  0  \n",
       "11                  1  \n",
       "12                  0  \n",
       "13                  0  \n",
       "14                  1  \n",
       "15                  0  \n",
       "16                  0  \n",
       "17                  1  \n",
       "18                  0  \n",
       "19                  1  "
      ]
     },
     "execution_count": 50,
     "metadata": {},
     "output_type": "execute_result"
    }
   ],
   "source": [
    "import openai  # Import the OpenAI package\n",
    "\n",
    "# Set your OpenAI API key\n",
    "openai.api_key = \"ENTER_YOUR_KEY_HERE\"\n",
    "\n",
    "# Define the function to analyze sentiment using ChatGPT\n",
    "def analyze_sentiment_chatgpt(review):\n",
    "    response = openai.completions.create(\n",
    "        model=\"text-davinci-003\",\n",
    "        prompt=\"Analyze the sentiment of the following text:\\n\" + review,\n",
    "        max_tokens=15,  # Adjust as needed\n",
    "        n=1,\n",
    "        stop=None,\n",
    "        temperature=0.5\n",
    "    )\n",
    "\n",
    "    sentiment_chatgpt = 0  # Default to negative sentiment\n",
    "    if \"positive\" in response.choices[0].text.lower():\n",
    "        sentiment_chatgpt = 1\n",
    "    return sentiment_chatgpt\n",
    "\n",
    "# Apply the sentiment analysis function to each review\n",
    "df_for_chatgpt[\"sentiment_chatgpt\"] = df_for_chatgpt[\"review\"].apply(analyze_sentiment_chatgpt)\n",
    "\n",
    "# Print the DataFrame with the new sentiment_chatgpt column\n",
    "df_for_chatgpt"
   ]
  },
  {
   "cell_type": "code",
   "execution_count": 117,
   "metadata": {},
   "outputs": [
    {
     "name": "stdout",
     "output_type": "stream",
     "text": [
      "in       the teenager martha moxley  maggie grace  moves to the high class area of belle haven  greenwich  connecticut  on the mischief night  eve of halloween  she was murdered in the backyard of her house and her murder remained unsolved  twenty two years later  the writer mark fuhrman  christopher meloni   who is a former la detective that has fallen in disgrace for perjury in o j  simpson trial and moved to idaho  decides to investigate the case with his partner stephen weeks  andrew mitchell  with the purpose of writing a book  the locals squirm and do not welcome them  but with the support of the retired detective steve carroll  robert forster  that was in charge of the investigation in the    s  they discover the criminal and a net of power and money to cover the murder  br    br    murder in greenwich  is a good tv movie  with the true story of a murder of a fifteen years old girl that was committed by a wealthy teenager whose mother was a kennedy  the powerful and rich family used their influence to cover the murder for more than twenty years  however  a snoopy detective and convicted perjurer in disgrace was able to disclose how the hideous crime was committed  the screenplay shows the investigation of mark and the last days of martha in parallel  but there is a lack of the emotion in the dramatization  my vote is seven  br    br   title  brazil   not available\n",
      "\n",
      " predicted sentiment is:  1\n",
      "\n",
      " ChatGPT predicted sentiment is:  1\n",
      "\n",
      " real sentiment is:  1 \n",
      "\n",
      "\n",
      "ok    so    i really like kris kristofferson and his usual easy going delivery of lines in his movies  age has helped him with his soft spoken low energy style and he will steal a scene effortlessly  but  disappearance is his misstep  holy moly  this was a bad movie   br    br   i must give kudos to the cinematography and and the actors  including kris  for trying their darndest to make sense from this goofy  confusing story  none of it made sense and kris probably didn t understand it either and he was just going through the motions hoping someone would come up to him and tell him what it was all about   br    br   i don t care that everyone on this movie was doing out of love for the project  or some such nonsense    i ve seen low budget movies that had a plot for goodness sake  this had none  zilcho  nada  zippo  empty of reason    a complete waste of good talent  scenery and celluloid   br    br   i rented this piece of garbage for a buck  and i want my money back  i want my   hours back i invested on this grade f waste of my time  don t watch this movie  or waste   minute of your valuable time while passing through a room where it s playing or even open up the case that is holding the dvd  believe me  you ll thank me for the advice \n",
      "\n",
      " predicted sentiment is:  0\n",
      "\n",
      " ChatGPT predicted sentiment is:  0\n",
      "\n",
      " real sentiment is:  0 \n",
      "\n",
      "\n",
      "   spoiler    do not read this  if you think about watching that movie  although it would be a waste of time   by the way  the plot is so predictable that it does not make any difference if you read this or not anyway  br    br   if you are wondering whether to see  coyote ugly  or not  don t  it s not worth either the money for the ticket or the vhs   dvd  a typical  chick feel good flick   one could say  the plot itself is as shallow as it can be  a ridiculous and uncritical version of the american dream  the young good looking girl from a small town becoming a big success in new york  the few desperate attempts of giving the movie any depth fail  such as the  tragic  accident of the father  the  difficulties  of violet s relationship with her boyfriend  and so on  mcnally  director  tries to arouse the audience s pity and sadness put does not have any chance to succeed in this attempt due to the bad script and the shallow acting  especially piper perabo completely fails in convincing one of  jersey s  fear of singing in front of an audience  the only good  and quite funny thing  about  coyote ugly  is john goodman  who represents the small ray of hope of this movie  br    br   i was very astonished  that jerry bruckheimer produced this movie  first  gone in    seconds  and now this    what happened to great movies like  the rock  and  con air   that was true bruckheimer stuff  br    br   if you are looking for a superficial movie with good looking women just to have a relaxed evening  you should better go and see  charlie s angels   it s much more funny  entertaining and self ironic  instead of this flick  br    br   two thumbs down    out of     \n",
      "\n",
      " predicted sentiment is:  0\n",
      "\n",
      " ChatGPT predicted sentiment is:  0\n",
      "\n",
      " real sentiment is:  0 \n",
      "\n",
      "\n",
      "hi for all the people who have seen this wonderful movie im sure thet you would have liked it as much as i  i love the songs once you have seen the show you can sing along as though you are part of the show singing and dancing   dancing and singing  the song one is an all time fave musical song too and the strutters at the end with the mirror its so oh you have to watch this one\n",
      "\n",
      " predicted sentiment is:  1\n",
      "\n",
      " ChatGPT predicted sentiment is:  1\n",
      "\n",
      " real sentiment is:  1 \n",
      "\n",
      "\n",
      "i recently bought the dvd  forgetting just how much i hated the movie version of  a chorus line   every change the director attenborough made to the story failed  br    br   by making the director cassie relationship so prominent  the entire ensemble premise of the musical sails out the window  br    br   some of the musical numbers are sped up and rushed  the show s hit song gets the entire meaning shattered when it is given to cassie s character  br    br   the overall staging is very self conscious  br    br   the only reason i give it a    is because a few of the great numbers are still able to be enjoyed despite the film s attempt to squeeze every bit of joy and spontaneity out of it \n",
      "\n",
      " predicted sentiment is:  1\n",
      "\n",
      " ChatGPT predicted sentiment is:  0\n",
      "\n",
      " real sentiment is:  0 \n",
      "\n",
      "\n",
      "leave it to braik to put on a good show  finally he and zorak are living their own lives outside of spac ghost coast to coast  i have to say that i love both of these shows a whole lot  they are completely what started adult swim  brak made it big with an album that came out in the year       it may not have been platinum  but his show was really popular to tons of people out there that love adult swims shows  i have to say that out of all the adult swim shows with no plot  this has to be the one with the most none plot ever made  that is why i like it so much  it is just such a classic in the adult swim history  i believe this is just such a great show  if you don t like it  hey there were tons who hated it and tons who loved it \n",
      "\n",
      " predicted sentiment is:  1\n",
      "\n",
      " ChatGPT predicted sentiment is:  1\n",
      "\n",
      " real sentiment is:  1 \n",
      "\n",
      "\n",
      "nathan detroit  frank sinatra  is the manager of the new york s longest  established floating craps game  and he needs       to secure a new location  confident of his odds  he bets the city s highest roller  sky masterson  marlon brando   that he can t woo uptight missionary sarah brown  jean simmons    guys and dolls         is such a great musical because it deftly blends the contrasting styles of film and stage  during a dazzling opening sequence  crowds of pedestrians move in rhythm  stopping and starting as though responding to backstage cues  even the walking movements themselves are stylised and angular  halfway between a walk and a dance  mankiewicz s new york city is a glittering flurry of art deco colour and movement  a fantasy world so completely removed from reality that even the business of underground gambling and criminal thuggery seems perfectly genial   br    br   as i write this review  i ve just received word that jean simmons has passed away  age     this  unbelievably  was the first time i d seen her in a film  yet she dazzled me from the beginning  her idealistic and sexually repressed sarah comes out of her shell following an alcohol binge in havana  letting loose with an adorably playful rendition of  if i were a bell   even though both simmons and brando were non singers  producer sam goldwyn decided not to dub their vocals  contending that  maybe you don t sound so good  but at least it s you   despite goldwyn s backhanded confidence  the pair both do well to carry entire musical numbers themselves  simmons suggests the same child like liveliness that audrey hepburn might have brought to the role  and brando exudes such self assurance and charisma that it doesn t matter that his singing voice isn t quite there \n",
      "\n",
      " predicted sentiment is:  1\n",
      "\n",
      " ChatGPT predicted sentiment is:  1\n",
      "\n",
      " real sentiment is:  1 \n",
      "\n",
      "\n",
      "to understand  crash course  in the right context  you must understand the    s in tv  most tv shows didn t have any point  the sitcom outpopulated the drama at least   to    they were still figuring out where the lines were so that they could cross them   tv shows like  hail to the chief  was quite the bold step   this made for tv movie  crash course  featured an all star cast  bringing together members from all the    s classics          family ties    who s the boss    et al  directors must ve had a certain penchant for those all star movies then  still  this movie offered very light fare and a simplistic view of heroism and maturity  and that s not bad sometimes  viva soleil moon frye \n",
      "\n",
      " predicted sentiment is:  0\n",
      "\n",
      " ChatGPT predicted sentiment is:  1\n",
      "\n",
      " real sentiment is:  1 \n",
      "\n",
      "\n",
      "i ve been impressed with chavez s stance against globalisation for sometime now  but it wasn t until i saw the film at the amsterdam documentary international film festival that i realize what he has really achieved  this film tells the story of coup conspiracy by venezuela s elite  the oil companies and oil loving corrupt western governments  to remove democratically elected president chavez  and return venezuela back to a brutal dictatorship  this film is must for anyone who believes in freedom and justice  and is also a lesson to the rest of world   i commend the people of venezuela for taking matter into their own hands  and saving their country from the likes of halliburton and the bush regime \n",
      "\n",
      " predicted sentiment is:  1\n",
      "\n",
      " ChatGPT predicted sentiment is:  1\n",
      "\n",
      " real sentiment is:  1 \n",
      "\n",
      "\n",
      "this movie is directed by renny harlin the finnish miracle  stallone is gabe walker  cat and mouse on the mountains with ruthless terrorists  renny harlin knows how to direct actionmovie  stallone needed this role to get back on track  snowy mountain is very good place for action movie and who is better to direct movie where is snow  ice  cold and bad weather than finnish man  action is good  music in the film is spectacular  the bad guy is john litghow  other stars micheal rooker   the portrait of serialkiller   janine turner   strong medicine   the is placed in beautiful place and it is very exciting movie  overall good movie            br    br   remember extreme   li t  special collectors edition  with good extras  comig soon in finland straight to video \n",
      "\n",
      " predicted sentiment is:  0\n",
      "\n",
      " ChatGPT predicted sentiment is:  1\n",
      "\n",
      " real sentiment is:  1 \n",
      "\n",
      "\n",
      "i once lived in the u p and let me tell you what  i didn t have the foggyest idea what the heck this  bear walk   is  i never heard of it the whole    years i was up there  it was really funny in the beginning but went down hill quickly \n",
      "\n",
      " predicted sentiment is:  1\n",
      "\n",
      " ChatGPT predicted sentiment is:  0\n",
      "\n",
      " real sentiment is:  0 \n",
      "\n",
      "\n",
      "hidden frontier is notable for being the longest running internet based star trek fan series  while the production quality is not on a par with fan productions like starship exeter  or new voyages  hidden frontier concentrates largely on story  and in that regard it does very well indeed  br    br   hidden frontier has no physical sets  instead actors are filmed against a greenscreen  and the backgrounds inserted digitally  one of hidden frontier s greatest achievements is the sheer volume of work they have produced  one of the ways in which this is achieved is by inserting the virtual sets at the time of filming  instead of in post production  while this does save a great deal of time  it s also worth noting that the quality of the resultant footage is not as high as if it had been produced in post production  though it still serves its purpose   br    br   while it may not be everyone s cup of tea  hidden frontier is well worth a shot  though you might be best to start off watching the third season  since this is where the producers really start to hit their stride \n",
      "\n",
      " predicted sentiment is:  1\n",
      "\n",
      " ChatGPT predicted sentiment is:  1\n",
      "\n",
      " real sentiment is:  1 \n",
      "\n",
      "\n",
      "it s a while ago  that i have seen sleuth        with two great actors michael caine and laurence olivier  michael caine is back  but he is now the husband and jude law the lover of his wife  the story is still the same and it s a fantastic play  br    br   during the movie i always had the feeling to watch a play  that s one of the reasons i dislike this remake of a classic  when i watch a movie adapted a play i still must feel to see a movie and not just a play  director kenneth brannigan did some marvelous movies in the past  but this time he missed  another reason was the look of the movie  the design was modern  stylish clean  uncomfortable and cold  i never got the feeling that somebody ever lived in that house  the photography wasn t bad  but the lightening was awful  sometimes there was blue light  dark  green light  to round it up not friendly for eyes  br    br   the acting was really good  michael caine s and jude law s perform at their best  i really would like to see these   guys playing together on stage  but i have to confess i never was a fan of jude law  the weakest part was the mid part  i remember that in the original that this part was still very mysterious and just marvelous directed  i tried to watch it twice and always in the mid part i felt asleep  the end part is better and more interesting  sleuth        isn t awful  but it seems to be more a movie for critics than for the audience  sleuth        is still a masterpiece and much more entertaining than sleuth        \n",
      "\n",
      " predicted sentiment is:  1\n",
      "\n",
      " ChatGPT predicted sentiment is:  0\n",
      "\n",
      " real sentiment is:  0 \n",
      "\n",
      "\n",
      "what is it about the french  first  they  apparently  like jerry lewis a lot more than the us does  second  they  seem  to like edgar allan poe s work more than just about anyone else does  it s got to be the  beaudelaire effect   br    br   don t get me wrong   i m a poe fan myself  but this trilogy manages to make three of poe s below average stories into   well  i m not sure what they re made into  br    br    toby dammit  is a fine fellini film  but it has nothing to do with poe s story  at least in terms of theme  it s enjoyable on the first viewing  terence stamp does a good job with an interesting role  however  it has nothing whatsoever to do with poe or spirits of the dead  br    br    metzergenstein  is a big mess  how did vadim s films get produced  it s just awful   not even up to amateur film school standards  depending on the dvd menu you have  try to skip it and save your time  br    br    william wilson  is actually the segment that is most faithful to poe s work  it does not have much style  though  even if it includes the strangest snowball fight i think that i have ever seen on film   it looks like the boys are throwing tissues  or maybe handkerchiefs  that have been rolled up into balls    br    br   my advice is to skip  metzergenstein   watch  william wilson   and then  if you re a fellini fan  i m not  keep  toby dammit  on while you cook dinner or make a snack \n",
      "\n",
      " predicted sentiment is:  0\n",
      "\n",
      " ChatGPT predicted sentiment is:  0\n",
      "\n",
      " real sentiment is:  0 \n",
      "\n",
      "\n",
      "this very strange movie is unlike anything made in the west at the time  with its tumultuous emotions and net of visions  dreams  and startling images  its effect is both beautiful and unsettling  the actors are choreographed more like dance than acting  it contains the only dream sequence i know of that actually resembles a real nightmare  sorry  dali fans  \n",
      "\n",
      " predicted sentiment is:  1\n",
      "\n",
      " ChatGPT predicted sentiment is:  1\n",
      "\n",
      " real sentiment is:  1 \n",
      "\n",
      "\n",
      "i saw this movie on the strength of the single positive review and i can only imagine that guy is a shill  br    br   the acting of the female lead is actually quite good  but the entire film is just so excruciatingly boring i could hardly bear to sit through it  this is the very definition of dullness  br    br   so far  this film is rated as   out of    on   votes  that must mean the director  director s girlfriend  producer  actress and drinking buddies have given their own film a     br    br   for the rest of you  who simply want to be entertained or enjoy a good story  avoid this  br    br   this man on the street shall give it a   out of     br    br   fda note  while this movie can be used as an aide to obtaining a good nights sleep  no medicinal value is implied or offered \n",
      "\n",
      " predicted sentiment is:  0\n",
      "\n",
      " ChatGPT predicted sentiment is:  0\n",
      "\n",
      " real sentiment is:  0 \n",
      "\n",
      "\n",
      "there are some great philosophical questions  what is the purpose of life  what happens when we die  and why do they make movies this bad    the premise is absurd  thre acting is one dimensional  the special effects are overdone  and the movie is one unending gun battle among some of the lousiest shots hollywood ever produced  but then  if they had been good shots  everybody would have been dead in the first five minutes and there would be no movie  too bad it didn t happen that way  tempted to turn it off several times  i stuck with it to see just how bad it could get  glad i did because  spoiler   the last line is the crowning stupidity of the whole dopey  dismal scenario it is not even worthy of second feature status at a third rate drive in in off season  apart from the general awfulness of the film  i worry deeply about its impact on young audiences  the americans crank out crap like this and then wonder why events like columbine happen  this is truly banal cinema on a brobdingnagian scale \n",
      "\n",
      " predicted sentiment is:  0\n",
      "\n",
      " ChatGPT predicted sentiment is:  0\n",
      "\n",
      " real sentiment is:  0 \n",
      "\n",
      "\n",
      "i was cast as the surfer dude in the beach scenes  almost got cast as the muscle guy  since the real muscle guy was really really late that day  pauly had my brother and i  the skateboarder in front of the tattoo place  do some vj stuff in between takes live from venice since he was still doing his mtv thing  this movie is really good as well  would it have made my top     if i wasn t in it         \n",
      "\n",
      " predicted sentiment is:  1\n",
      "\n",
      " ChatGPT predicted sentiment is:  1\n",
      "\n",
      " real sentiment is:  1 \n",
      "\n",
      "\n",
      "i had high hopes for this one until they changed the name to  the shepherd   border patrol  the lamest movie name ever  what was wrong with just  the shepherd   this is a by the numbers action flick that tips its hat at many classic van damme films  there is a nice bit of action in a bar which reminded me of hard target and universal soldier but directed with no intensity or flair which is a shame  there is one great line about  being p ss drunk and carrying a rabbit  and some ok action scenes let down by the cheapness of it all  a lot of the times the dialogue doesn t match the characters mouth and the stunt men fall down dead a split second before even being shot  the end fight is one of the better van damme fights except the director tries to go a bit too john woo and fails also introducing flashbacks which no one really cares about just gets in the way of the action which is the whole point of a van damme film  br    br   not good  not bad  just average generic action \n",
      "\n",
      " predicted sentiment is:  0\n",
      "\n",
      " ChatGPT predicted sentiment is:  0\n",
      "\n",
      " real sentiment is:  0 \n",
      "\n",
      "\n"
     ]
    }
   ],
   "source": [
    "# Let's predict these reviews' sentiments using the classification model and compare to the real sentiment and to ChatGPT\n",
    "\n",
    "X_df_for_chargpt = tf_idf_vec.transform(df_for_chatgpt[\"review\"])\n",
    "df_predict = gb_tfidf.predict(X_df_for_chargpt)\n",
    "\n",
    "for i in range (0,19):\n",
    "    print(df_for_chatgpt[\"review\"][i])\n",
    "    print (\"\\n predicted sentiment is: \",df_predict[i])\n",
    "    print (\"\\n ChatGPT predicted sentiment is: \",df_for_chatgpt[\"sentiment_chatgpt\"][i])\n",
    "    print (\"\\n real sentiment is: \",df_for_chatgpt[\"sentiment\"][i],\"\\n\\n\")"
   ]
  }
 ],
 "metadata": {
  "kernelspec": {
   "display_name": "anaconda-2022.05-py39",
   "language": "python",
   "name": "conda-env-anaconda-2022.05-py39-py"
  },
  "language_info": {
   "codemirror_mode": {
    "name": "ipython",
    "version": 3
   },
   "file_extension": ".py",
   "mimetype": "text/x-python",
   "name": "python",
   "nbconvert_exporter": "python",
   "pygments_lexer": "ipython3",
   "version": "3.9.12"
  }
 },
 "nbformat": 4,
 "nbformat_minor": 4
}
