{
 "cells": [
  {
   "cell_type": "markdown",
   "metadata": {},
   "source": [
    "<img src=\"logo.png\" alt=\"Drawing\" style=\"width: 80px;\"/>\n",
    "\n",
    "## Exercise 3 - Machine Learning in Python (Classification Example) - By Omer Dembinsky\n",
    "#### Based on HR Analytics Employee Attrition:\n",
    "https://www.kaggle.com/giripujar/hr-analytics"
   ]
  },
  {
   "cell_type": "code",
   "execution_count": 2,
   "metadata": {},
   "outputs": [],
   "source": [
    "import pandas as pd \n",
    "import numpy as np  \n",
    "import matplotlib.pyplot as plt \n",
    "import seaborn as sns\n",
    "from sklearn.preprocessing import OneHotEncoder\n",
    "from sklearn.model_selection import train_test_split\n",
    "from sklearn.tree import DecisionTreeClassifier\n",
    "from sklearn.metrics import confusion_matrix\n",
    "from sklearn.metrics import precision_score, recall_score"
   ]
  },
  {
   "cell_type": "markdown",
   "metadata": {},
   "source": [
    "## **Basic data exploration**\n",
    "\n",
    "#### Download and read the data"
   ]
  },
  {
   "cell_type": "code",
   "execution_count": 4,
   "metadata": {},
   "outputs": [],
   "source": [
    "df = pd.read_csv(\"HR_comma_sep.csv\") "
   ]
  },
  {
   "cell_type": "markdown",
   "metadata": {},
   "source": [
    "#### Examine your data using different methods\n",
    "\n",
    "Use the head, info function to get a sense of your data."
   ]
  },
  {
   "cell_type": "code",
   "execution_count": 6,
   "metadata": {},
   "outputs": [
    {
     "data": {
      "text/html": [
       "<div>\n",
       "<style scoped>\n",
       "    .dataframe tbody tr th:only-of-type {\n",
       "        vertical-align: middle;\n",
       "    }\n",
       "\n",
       "    .dataframe tbody tr th {\n",
       "        vertical-align: top;\n",
       "    }\n",
       "\n",
       "    .dataframe thead th {\n",
       "        text-align: right;\n",
       "    }\n",
       "</style>\n",
       "<table border=\"1\" class=\"dataframe\">\n",
       "  <thead>\n",
       "    <tr style=\"text-align: right;\">\n",
       "      <th></th>\n",
       "      <th>satisfaction_level</th>\n",
       "      <th>last_evaluation</th>\n",
       "      <th>number_project</th>\n",
       "      <th>average_montly_hours</th>\n",
       "      <th>time_spend_company</th>\n",
       "      <th>Work_accident</th>\n",
       "      <th>left</th>\n",
       "      <th>promotion_last_5years</th>\n",
       "      <th>Department</th>\n",
       "      <th>salary</th>\n",
       "    </tr>\n",
       "  </thead>\n",
       "  <tbody>\n",
       "    <tr>\n",
       "      <th>5169</th>\n",
       "      <td>0.51</td>\n",
       "      <td>0.58</td>\n",
       "      <td>4</td>\n",
       "      <td>140</td>\n",
       "      <td>3</td>\n",
       "      <td>0</td>\n",
       "      <td>0</td>\n",
       "      <td>0</td>\n",
       "      <td>technical</td>\n",
       "      <td>high</td>\n",
       "    </tr>\n",
       "    <tr>\n",
       "      <th>3989</th>\n",
       "      <td>0.83</td>\n",
       "      <td>0.81</td>\n",
       "      <td>3</td>\n",
       "      <td>242</td>\n",
       "      <td>6</td>\n",
       "      <td>0</td>\n",
       "      <td>0</td>\n",
       "      <td>0</td>\n",
       "      <td>sales</td>\n",
       "      <td>low</td>\n",
       "    </tr>\n",
       "    <tr>\n",
       "      <th>5210</th>\n",
       "      <td>0.50</td>\n",
       "      <td>0.91</td>\n",
       "      <td>3</td>\n",
       "      <td>240</td>\n",
       "      <td>2</td>\n",
       "      <td>0</td>\n",
       "      <td>0</td>\n",
       "      <td>0</td>\n",
       "      <td>sales</td>\n",
       "      <td>medium</td>\n",
       "    </tr>\n",
       "    <tr>\n",
       "      <th>6509</th>\n",
       "      <td>1.00</td>\n",
       "      <td>0.95</td>\n",
       "      <td>3</td>\n",
       "      <td>275</td>\n",
       "      <td>3</td>\n",
       "      <td>1</td>\n",
       "      <td>0</td>\n",
       "      <td>0</td>\n",
       "      <td>sales</td>\n",
       "      <td>medium</td>\n",
       "    </tr>\n",
       "    <tr>\n",
       "      <th>14692</th>\n",
       "      <td>0.10</td>\n",
       "      <td>0.79</td>\n",
       "      <td>6</td>\n",
       "      <td>274</td>\n",
       "      <td>4</td>\n",
       "      <td>0</td>\n",
       "      <td>1</td>\n",
       "      <td>0</td>\n",
       "      <td>sales</td>\n",
       "      <td>low</td>\n",
       "    </tr>\n",
       "  </tbody>\n",
       "</table>\n",
       "</div>"
      ],
      "text/plain": [
       "       satisfaction_level  last_evaluation  number_project  \\\n",
       "5169                 0.51             0.58               4   \n",
       "3989                 0.83             0.81               3   \n",
       "5210                 0.50             0.91               3   \n",
       "6509                 1.00             0.95               3   \n",
       "14692                0.10             0.79               6   \n",
       "\n",
       "       average_montly_hours  time_spend_company  Work_accident  left  \\\n",
       "5169                    140                   3              0     0   \n",
       "3989                    242                   6              0     0   \n",
       "5210                    240                   2              0     0   \n",
       "6509                    275                   3              1     0   \n",
       "14692                   274                   4              0     1   \n",
       "\n",
       "       promotion_last_5years Department  salary  \n",
       "5169                       0  technical    high  \n",
       "3989                       0      sales     low  \n",
       "5210                       0      sales  medium  \n",
       "6509                       0      sales  medium  \n",
       "14692                      0      sales     low  "
      ]
     },
     "execution_count": 6,
     "metadata": {},
     "output_type": "execute_result"
    }
   ],
   "source": [
    "df.sample(5)"
   ]
  },
  {
   "cell_type": "code",
   "execution_count": 7,
   "metadata": {},
   "outputs": [
    {
     "name": "stdout",
     "output_type": "stream",
     "text": [
      "<class 'pandas.core.frame.DataFrame'>\n",
      "RangeIndex: 14999 entries, 0 to 14998\n",
      "Data columns (total 10 columns):\n",
      " #   Column                 Non-Null Count  Dtype  \n",
      "---  ------                 --------------  -----  \n",
      " 0   satisfaction_level     14999 non-null  float64\n",
      " 1   last_evaluation        14999 non-null  float64\n",
      " 2   number_project         14999 non-null  int64  \n",
      " 3   average_montly_hours   14999 non-null  int64  \n",
      " 4   time_spend_company     14999 non-null  int64  \n",
      " 5   Work_accident          14999 non-null  int64  \n",
      " 6   left                   14999 non-null  int64  \n",
      " 7   promotion_last_5years  14999 non-null  int64  \n",
      " 8   Department             14999 non-null  object \n",
      " 9   salary                 14999 non-null  object \n",
      "dtypes: float64(2), int64(6), object(2)\n",
      "memory usage: 1.1+ MB\n"
     ]
    }
   ],
   "source": [
    "df.info()"
   ]
  },
  {
   "cell_type": "markdown",
   "metadata": {},
   "source": [
    "***There are 10 features: 8 numeric and 2 objects.***\n",
    "\n",
    "*Some of the numeric features seem to be categorical (left, promotion, work accident)"
   ]
  },
  {
   "cell_type": "code",
   "execution_count": 9,
   "metadata": {
    "scrolled": true
   },
   "outputs": [
    {
     "data": {
      "text/html": [
       "<div>\n",
       "<style scoped>\n",
       "    .dataframe tbody tr th:only-of-type {\n",
       "        vertical-align: middle;\n",
       "    }\n",
       "\n",
       "    .dataframe tbody tr th {\n",
       "        vertical-align: top;\n",
       "    }\n",
       "\n",
       "    .dataframe thead th {\n",
       "        text-align: right;\n",
       "    }\n",
       "</style>\n",
       "<table border=\"1\" class=\"dataframe\">\n",
       "  <thead>\n",
       "    <tr style=\"text-align: right;\">\n",
       "      <th></th>\n",
       "      <th>satisfaction_level</th>\n",
       "      <th>last_evaluation</th>\n",
       "      <th>number_project</th>\n",
       "      <th>average_montly_hours</th>\n",
       "      <th>time_spend_company</th>\n",
       "      <th>Work_accident</th>\n",
       "      <th>left</th>\n",
       "      <th>promotion_last_5years</th>\n",
       "    </tr>\n",
       "  </thead>\n",
       "  <tbody>\n",
       "    <tr>\n",
       "      <th>count</th>\n",
       "      <td>14999.000000</td>\n",
       "      <td>14999.000000</td>\n",
       "      <td>14999.000000</td>\n",
       "      <td>14999.000000</td>\n",
       "      <td>14999.000000</td>\n",
       "      <td>14999.000000</td>\n",
       "      <td>14999.000000</td>\n",
       "      <td>14999.000000</td>\n",
       "    </tr>\n",
       "    <tr>\n",
       "      <th>mean</th>\n",
       "      <td>0.612834</td>\n",
       "      <td>0.716102</td>\n",
       "      <td>3.803054</td>\n",
       "      <td>201.050337</td>\n",
       "      <td>3.498233</td>\n",
       "      <td>0.144610</td>\n",
       "      <td>0.238083</td>\n",
       "      <td>0.021268</td>\n",
       "    </tr>\n",
       "    <tr>\n",
       "      <th>std</th>\n",
       "      <td>0.248631</td>\n",
       "      <td>0.171169</td>\n",
       "      <td>1.232592</td>\n",
       "      <td>49.943099</td>\n",
       "      <td>1.460136</td>\n",
       "      <td>0.351719</td>\n",
       "      <td>0.425924</td>\n",
       "      <td>0.144281</td>\n",
       "    </tr>\n",
       "    <tr>\n",
       "      <th>min</th>\n",
       "      <td>0.090000</td>\n",
       "      <td>0.360000</td>\n",
       "      <td>2.000000</td>\n",
       "      <td>96.000000</td>\n",
       "      <td>2.000000</td>\n",
       "      <td>0.000000</td>\n",
       "      <td>0.000000</td>\n",
       "      <td>0.000000</td>\n",
       "    </tr>\n",
       "    <tr>\n",
       "      <th>25%</th>\n",
       "      <td>0.440000</td>\n",
       "      <td>0.560000</td>\n",
       "      <td>3.000000</td>\n",
       "      <td>156.000000</td>\n",
       "      <td>3.000000</td>\n",
       "      <td>0.000000</td>\n",
       "      <td>0.000000</td>\n",
       "      <td>0.000000</td>\n",
       "    </tr>\n",
       "    <tr>\n",
       "      <th>50%</th>\n",
       "      <td>0.640000</td>\n",
       "      <td>0.720000</td>\n",
       "      <td>4.000000</td>\n",
       "      <td>200.000000</td>\n",
       "      <td>3.000000</td>\n",
       "      <td>0.000000</td>\n",
       "      <td>0.000000</td>\n",
       "      <td>0.000000</td>\n",
       "    </tr>\n",
       "    <tr>\n",
       "      <th>75%</th>\n",
       "      <td>0.820000</td>\n",
       "      <td>0.870000</td>\n",
       "      <td>5.000000</td>\n",
       "      <td>245.000000</td>\n",
       "      <td>4.000000</td>\n",
       "      <td>0.000000</td>\n",
       "      <td>0.000000</td>\n",
       "      <td>0.000000</td>\n",
       "    </tr>\n",
       "    <tr>\n",
       "      <th>max</th>\n",
       "      <td>1.000000</td>\n",
       "      <td>1.000000</td>\n",
       "      <td>7.000000</td>\n",
       "      <td>310.000000</td>\n",
       "      <td>10.000000</td>\n",
       "      <td>1.000000</td>\n",
       "      <td>1.000000</td>\n",
       "      <td>1.000000</td>\n",
       "    </tr>\n",
       "  </tbody>\n",
       "</table>\n",
       "</div>"
      ],
      "text/plain": [
       "       satisfaction_level  last_evaluation  number_project  \\\n",
       "count        14999.000000     14999.000000    14999.000000   \n",
       "mean             0.612834         0.716102        3.803054   \n",
       "std              0.248631         0.171169        1.232592   \n",
       "min              0.090000         0.360000        2.000000   \n",
       "25%              0.440000         0.560000        3.000000   \n",
       "50%              0.640000         0.720000        4.000000   \n",
       "75%              0.820000         0.870000        5.000000   \n",
       "max              1.000000         1.000000        7.000000   \n",
       "\n",
       "       average_montly_hours  time_spend_company  Work_accident          left  \\\n",
       "count          14999.000000        14999.000000   14999.000000  14999.000000   \n",
       "mean             201.050337            3.498233       0.144610      0.238083   \n",
       "std               49.943099            1.460136       0.351719      0.425924   \n",
       "min               96.000000            2.000000       0.000000      0.000000   \n",
       "25%              156.000000            3.000000       0.000000      0.000000   \n",
       "50%              200.000000            3.000000       0.000000      0.000000   \n",
       "75%              245.000000            4.000000       0.000000      0.000000   \n",
       "max              310.000000           10.000000       1.000000      1.000000   \n",
       "\n",
       "       promotion_last_5years  \n",
       "count           14999.000000  \n",
       "mean                0.021268  \n",
       "std                 0.144281  \n",
       "min                 0.000000  \n",
       "25%                 0.000000  \n",
       "50%                 0.000000  \n",
       "75%                 0.000000  \n",
       "max                 1.000000  "
      ]
     },
     "execution_count": 9,
     "metadata": {},
     "output_type": "execute_result"
    }
   ],
   "source": [
    "df.describe()\n",
    "#The describe function is applied to numeric features only: "
   ]
  },
  {
   "cell_type": "markdown",
   "metadata": {},
   "source": [
    "**For categrical variables use value_counts method:**"
   ]
  },
  {
   "cell_type": "code",
   "execution_count": 11,
   "metadata": {},
   "outputs": [
    {
     "data": {
      "text/plain": [
       "sales          4140\n",
       "technical      2720\n",
       "support        2229\n",
       "IT             1227\n",
       "product_mng     902\n",
       "marketing       858\n",
       "RandD           787\n",
       "accounting      767\n",
       "hr              739\n",
       "management      630\n",
       "Name: Department, dtype: int64"
      ]
     },
     "execution_count": 11,
     "metadata": {},
     "output_type": "execute_result"
    }
   ],
   "source": [
    "df[\"Department\"].value_counts()"
   ]
  },
  {
   "cell_type": "code",
   "execution_count": 12,
   "metadata": {},
   "outputs": [
    {
     "data": {
      "text/plain": [
       "0    14680\n",
       "1      319\n",
       "Name: promotion_last_5years, dtype: int64"
      ]
     },
     "execution_count": 12,
     "metadata": {},
     "output_type": "execute_result"
    }
   ],
   "source": [
    "df[\"promotion_last_5years\"].value_counts()"
   ]
  },
  {
   "cell_type": "markdown",
   "metadata": {},
   "source": [
    "#### Identify missing data\n",
    "To identify missing values you can look on the describe function results, or to use the direct functions isna and isnull, with sum."
   ]
  },
  {
   "cell_type": "code",
   "execution_count": 14,
   "metadata": {},
   "outputs": [
    {
     "data": {
      "text/plain": [
       "satisfaction_level       0\n",
       "last_evaluation          0\n",
       "number_project           0\n",
       "average_montly_hours     0\n",
       "time_spend_company       0\n",
       "Work_accident            0\n",
       "left                     0\n",
       "promotion_last_5years    0\n",
       "Department               0\n",
       "salary                   0\n",
       "dtype: int64"
      ]
     },
     "execution_count": 14,
     "metadata": {},
     "output_type": "execute_result"
    }
   ],
   "source": [
    "df.isnull().sum()"
   ]
  },
  {
   "cell_type": "markdown",
   "metadata": {},
   "source": [
    "## **Handle categorical feature**\n"
   ]
  },
  {
   "cell_type": "markdown",
   "metadata": {},
   "source": [
    "#### Categorical variables need to be transformed to an integer, as sklearn works with numeric data only. \n",
    "#### Some are already encoded as numbers, but two are still objects."
   ]
  },
  {
   "cell_type": "markdown",
   "metadata": {},
   "source": [
    "##### Map Ordinal features\n",
    "We can define a dictionary that maps each ordinal value to a numerical value, and then use the function \"map\" as shown below, or use the function \"replace\" as shown in: http://pbpython.com/categorical-encoding.html ."
   ]
  },
  {
   "cell_type": "code",
   "execution_count": 18,
   "metadata": {},
   "outputs": [],
   "source": [
    "df_prep = df.copy() # we are starting to make changes to the original data, so we'll do it on a copy of the data"
   ]
  },
  {
   "cell_type": "code",
   "execution_count": 19,
   "metadata": {},
   "outputs": [
    {
     "name": "stdout",
     "output_type": "stream",
     "text": [
      "<class 'pandas.core.frame.DataFrame'>\n",
      "RangeIndex: 14999 entries, 0 to 14998\n",
      "Data columns (total 10 columns):\n",
      " #   Column                 Non-Null Count  Dtype  \n",
      "---  ------                 --------------  -----  \n",
      " 0   satisfaction_level     14999 non-null  float64\n",
      " 1   last_evaluation        14999 non-null  float64\n",
      " 2   number_project         14999 non-null  int64  \n",
      " 3   average_montly_hours   14999 non-null  int64  \n",
      " 4   time_spend_company     14999 non-null  int64  \n",
      " 5   Work_accident          14999 non-null  int64  \n",
      " 6   left                   14999 non-null  int64  \n",
      " 7   promotion_last_5years  14999 non-null  int64  \n",
      " 8   Department             14999 non-null  object \n",
      " 9   salary                 14999 non-null  int64  \n",
      "dtypes: float64(2), int64(7), object(1)\n",
      "memory usage: 1.1+ MB\n"
     ]
    }
   ],
   "source": [
    "salary_map = {'low':0, 'medium':1, 'high':2}  #Define the mapping as a dictionary\n",
    "df_prep[\"salary\"] =  df_prep[\"salary\"].map(salary_map)\n",
    "df_prep.info()"
   ]
  },
  {
   "cell_type": "markdown",
   "metadata": {},
   "source": [
    "##### Handle Nominal features\n",
    "We now wish to encode the \"Department\" column. The \"Department\" column has the following 10 values:\n",
    "* 'sales':0, 'accounting':1, 'hr':2, 'technical':3, 'support':4, 'management':5, 'IT':6, 'product_mng':7, 'marketing':8, 'RandD':9\n",
    "\n",
    "\n",
    "To encode the feature we can define a map per each value. However, manual one by one change is not recommended, as the categorical column may have large or changing number of values. Below we will show \"get_dummies\" method and there is also onehotencoder code commented out. \n",
    "\n",
    "See more solutions in: http://pbpython.com/categorical-encoding.html"
   ]
  },
  {
   "cell_type": "code",
   "execution_count": 21,
   "metadata": {},
   "outputs": [],
   "source": [
    "#OnehotEncoder - requires running the encoding and then connecting the result to the original dataframe\n",
    "\n",
    "#from sklearn.preprocessing import OneHotEncoder\n",
    "#enc = OneHotEncoder()\n",
    "#enc_df = pd.DataFrame(enc.fit_transform(df_prep[['Department']]).toarray())\n",
    "#df_new = df.join(enc_df)\n",
    "#df_new_new = df_new.drop(columns=['Department'])"
   ]
  },
  {
   "cell_type": "code",
   "execution_count": 22,
   "metadata": {},
   "outputs": [
    {
     "data": {
      "text/html": [
       "<div>\n",
       "<style scoped>\n",
       "    .dataframe tbody tr th:only-of-type {\n",
       "        vertical-align: middle;\n",
       "    }\n",
       "\n",
       "    .dataframe tbody tr th {\n",
       "        vertical-align: top;\n",
       "    }\n",
       "\n",
       "    .dataframe thead th {\n",
       "        text-align: right;\n",
       "    }\n",
       "</style>\n",
       "<table border=\"1\" class=\"dataframe\">\n",
       "  <thead>\n",
       "    <tr style=\"text-align: right;\">\n",
       "      <th></th>\n",
       "      <th>satisfaction_level</th>\n",
       "      <th>last_evaluation</th>\n",
       "      <th>number_project</th>\n",
       "      <th>average_montly_hours</th>\n",
       "      <th>time_spend_company</th>\n",
       "      <th>Work_accident</th>\n",
       "      <th>left</th>\n",
       "      <th>promotion_last_5years</th>\n",
       "      <th>salary</th>\n",
       "      <th>dep_IT</th>\n",
       "      <th>dep_RandD</th>\n",
       "      <th>dep_accounting</th>\n",
       "      <th>dep_hr</th>\n",
       "      <th>dep_management</th>\n",
       "      <th>dep_marketing</th>\n",
       "      <th>dep_product_mng</th>\n",
       "      <th>dep_sales</th>\n",
       "      <th>dep_support</th>\n",
       "      <th>dep_technical</th>\n",
       "    </tr>\n",
       "  </thead>\n",
       "  <tbody>\n",
       "    <tr>\n",
       "      <th>0</th>\n",
       "      <td>0.38</td>\n",
       "      <td>0.53</td>\n",
       "      <td>2</td>\n",
       "      <td>157</td>\n",
       "      <td>3</td>\n",
       "      <td>0</td>\n",
       "      <td>1</td>\n",
       "      <td>0</td>\n",
       "      <td>0</td>\n",
       "      <td>0</td>\n",
       "      <td>0</td>\n",
       "      <td>0</td>\n",
       "      <td>0</td>\n",
       "      <td>0</td>\n",
       "      <td>0</td>\n",
       "      <td>0</td>\n",
       "      <td>1</td>\n",
       "      <td>0</td>\n",
       "      <td>0</td>\n",
       "    </tr>\n",
       "    <tr>\n",
       "      <th>1</th>\n",
       "      <td>0.80</td>\n",
       "      <td>0.86</td>\n",
       "      <td>5</td>\n",
       "      <td>262</td>\n",
       "      <td>6</td>\n",
       "      <td>0</td>\n",
       "      <td>1</td>\n",
       "      <td>0</td>\n",
       "      <td>1</td>\n",
       "      <td>0</td>\n",
       "      <td>0</td>\n",
       "      <td>0</td>\n",
       "      <td>0</td>\n",
       "      <td>0</td>\n",
       "      <td>0</td>\n",
       "      <td>0</td>\n",
       "      <td>1</td>\n",
       "      <td>0</td>\n",
       "      <td>0</td>\n",
       "    </tr>\n",
       "    <tr>\n",
       "      <th>2</th>\n",
       "      <td>0.11</td>\n",
       "      <td>0.88</td>\n",
       "      <td>7</td>\n",
       "      <td>272</td>\n",
       "      <td>4</td>\n",
       "      <td>0</td>\n",
       "      <td>1</td>\n",
       "      <td>0</td>\n",
       "      <td>1</td>\n",
       "      <td>0</td>\n",
       "      <td>0</td>\n",
       "      <td>0</td>\n",
       "      <td>0</td>\n",
       "      <td>0</td>\n",
       "      <td>0</td>\n",
       "      <td>0</td>\n",
       "      <td>1</td>\n",
       "      <td>0</td>\n",
       "      <td>0</td>\n",
       "    </tr>\n",
       "    <tr>\n",
       "      <th>3</th>\n",
       "      <td>0.72</td>\n",
       "      <td>0.87</td>\n",
       "      <td>5</td>\n",
       "      <td>223</td>\n",
       "      <td>5</td>\n",
       "      <td>0</td>\n",
       "      <td>1</td>\n",
       "      <td>0</td>\n",
       "      <td>0</td>\n",
       "      <td>0</td>\n",
       "      <td>0</td>\n",
       "      <td>0</td>\n",
       "      <td>0</td>\n",
       "      <td>0</td>\n",
       "      <td>0</td>\n",
       "      <td>0</td>\n",
       "      <td>1</td>\n",
       "      <td>0</td>\n",
       "      <td>0</td>\n",
       "    </tr>\n",
       "    <tr>\n",
       "      <th>4</th>\n",
       "      <td>0.37</td>\n",
       "      <td>0.52</td>\n",
       "      <td>2</td>\n",
       "      <td>159</td>\n",
       "      <td>3</td>\n",
       "      <td>0</td>\n",
       "      <td>1</td>\n",
       "      <td>0</td>\n",
       "      <td>0</td>\n",
       "      <td>0</td>\n",
       "      <td>0</td>\n",
       "      <td>0</td>\n",
       "      <td>0</td>\n",
       "      <td>0</td>\n",
       "      <td>0</td>\n",
       "      <td>0</td>\n",
       "      <td>1</td>\n",
       "      <td>0</td>\n",
       "      <td>0</td>\n",
       "    </tr>\n",
       "    <tr>\n",
       "      <th>5</th>\n",
       "      <td>0.41</td>\n",
       "      <td>0.50</td>\n",
       "      <td>2</td>\n",
       "      <td>153</td>\n",
       "      <td>3</td>\n",
       "      <td>0</td>\n",
       "      <td>1</td>\n",
       "      <td>0</td>\n",
       "      <td>0</td>\n",
       "      <td>0</td>\n",
       "      <td>0</td>\n",
       "      <td>0</td>\n",
       "      <td>0</td>\n",
       "      <td>0</td>\n",
       "      <td>0</td>\n",
       "      <td>0</td>\n",
       "      <td>1</td>\n",
       "      <td>0</td>\n",
       "      <td>0</td>\n",
       "    </tr>\n",
       "    <tr>\n",
       "      <th>6</th>\n",
       "      <td>0.10</td>\n",
       "      <td>0.77</td>\n",
       "      <td>6</td>\n",
       "      <td>247</td>\n",
       "      <td>4</td>\n",
       "      <td>0</td>\n",
       "      <td>1</td>\n",
       "      <td>0</td>\n",
       "      <td>0</td>\n",
       "      <td>0</td>\n",
       "      <td>0</td>\n",
       "      <td>0</td>\n",
       "      <td>0</td>\n",
       "      <td>0</td>\n",
       "      <td>0</td>\n",
       "      <td>0</td>\n",
       "      <td>1</td>\n",
       "      <td>0</td>\n",
       "      <td>0</td>\n",
       "    </tr>\n",
       "    <tr>\n",
       "      <th>7</th>\n",
       "      <td>0.92</td>\n",
       "      <td>0.85</td>\n",
       "      <td>5</td>\n",
       "      <td>259</td>\n",
       "      <td>5</td>\n",
       "      <td>0</td>\n",
       "      <td>1</td>\n",
       "      <td>0</td>\n",
       "      <td>0</td>\n",
       "      <td>0</td>\n",
       "      <td>0</td>\n",
       "      <td>0</td>\n",
       "      <td>0</td>\n",
       "      <td>0</td>\n",
       "      <td>0</td>\n",
       "      <td>0</td>\n",
       "      <td>1</td>\n",
       "      <td>0</td>\n",
       "      <td>0</td>\n",
       "    </tr>\n",
       "    <tr>\n",
       "      <th>8</th>\n",
       "      <td>0.89</td>\n",
       "      <td>1.00</td>\n",
       "      <td>5</td>\n",
       "      <td>224</td>\n",
       "      <td>5</td>\n",
       "      <td>0</td>\n",
       "      <td>1</td>\n",
       "      <td>0</td>\n",
       "      <td>0</td>\n",
       "      <td>0</td>\n",
       "      <td>0</td>\n",
       "      <td>0</td>\n",
       "      <td>0</td>\n",
       "      <td>0</td>\n",
       "      <td>0</td>\n",
       "      <td>0</td>\n",
       "      <td>1</td>\n",
       "      <td>0</td>\n",
       "      <td>0</td>\n",
       "    </tr>\n",
       "    <tr>\n",
       "      <th>9</th>\n",
       "      <td>0.42</td>\n",
       "      <td>0.53</td>\n",
       "      <td>2</td>\n",
       "      <td>142</td>\n",
       "      <td>3</td>\n",
       "      <td>0</td>\n",
       "      <td>1</td>\n",
       "      <td>0</td>\n",
       "      <td>0</td>\n",
       "      <td>0</td>\n",
       "      <td>0</td>\n",
       "      <td>0</td>\n",
       "      <td>0</td>\n",
       "      <td>0</td>\n",
       "      <td>0</td>\n",
       "      <td>0</td>\n",
       "      <td>1</td>\n",
       "      <td>0</td>\n",
       "      <td>0</td>\n",
       "    </tr>\n",
       "  </tbody>\n",
       "</table>\n",
       "</div>"
      ],
      "text/plain": [
       "   satisfaction_level  last_evaluation  number_project  average_montly_hours  \\\n",
       "0                0.38             0.53               2                   157   \n",
       "1                0.80             0.86               5                   262   \n",
       "2                0.11             0.88               7                   272   \n",
       "3                0.72             0.87               5                   223   \n",
       "4                0.37             0.52               2                   159   \n",
       "5                0.41             0.50               2                   153   \n",
       "6                0.10             0.77               6                   247   \n",
       "7                0.92             0.85               5                   259   \n",
       "8                0.89             1.00               5                   224   \n",
       "9                0.42             0.53               2                   142   \n",
       "\n",
       "   time_spend_company  Work_accident  left  promotion_last_5years  salary  \\\n",
       "0                   3              0     1                      0       0   \n",
       "1                   6              0     1                      0       1   \n",
       "2                   4              0     1                      0       1   \n",
       "3                   5              0     1                      0       0   \n",
       "4                   3              0     1                      0       0   \n",
       "5                   3              0     1                      0       0   \n",
       "6                   4              0     1                      0       0   \n",
       "7                   5              0     1                      0       0   \n",
       "8                   5              0     1                      0       0   \n",
       "9                   3              0     1                      0       0   \n",
       "\n",
       "   dep_IT  dep_RandD  dep_accounting  dep_hr  dep_management  dep_marketing  \\\n",
       "0       0          0               0       0               0              0   \n",
       "1       0          0               0       0               0              0   \n",
       "2       0          0               0       0               0              0   \n",
       "3       0          0               0       0               0              0   \n",
       "4       0          0               0       0               0              0   \n",
       "5       0          0               0       0               0              0   \n",
       "6       0          0               0       0               0              0   \n",
       "7       0          0               0       0               0              0   \n",
       "8       0          0               0       0               0              0   \n",
       "9       0          0               0       0               0              0   \n",
       "\n",
       "   dep_product_mng  dep_sales  dep_support  dep_technical  \n",
       "0                0          1            0              0  \n",
       "1                0          1            0              0  \n",
       "2                0          1            0              0  \n",
       "3                0          1            0              0  \n",
       "4                0          1            0              0  \n",
       "5                0          1            0              0  \n",
       "6                0          1            0              0  \n",
       "7                0          1            0              0  \n",
       "8                0          1            0              0  \n",
       "9                0          1            0              0  "
      ]
     },
     "execution_count": 22,
     "metadata": {},
     "output_type": "execute_result"
    }
   ],
   "source": [
    "#get_dummies\n",
    "df_prep = pd.get_dummies(df_prep, columns=[\"Department\"], prefix=[\"dep\"]) \n",
    "#You can't run this command twice as df changes. Select from Kernal menu the Restart and Run All option.\n",
    "#Another option is to define a new dataframe (df_dummies/df_new/) from this point so you still have the original df to work with\n",
    "df_prep.head(10)"
   ]
  },
  {
   "cell_type": "code",
   "execution_count": 23,
   "metadata": {},
   "outputs": [
    {
     "name": "stdout",
     "output_type": "stream",
     "text": [
      "<class 'pandas.core.frame.DataFrame'>\n",
      "RangeIndex: 14999 entries, 0 to 14998\n",
      "Data columns (total 19 columns):\n",
      " #   Column                 Non-Null Count  Dtype  \n",
      "---  ------                 --------------  -----  \n",
      " 0   satisfaction_level     14999 non-null  float64\n",
      " 1   last_evaluation        14999 non-null  float64\n",
      " 2   number_project         14999 non-null  int64  \n",
      " 3   average_montly_hours   14999 non-null  int64  \n",
      " 4   time_spend_company     14999 non-null  int64  \n",
      " 5   Work_accident          14999 non-null  int64  \n",
      " 6   left                   14999 non-null  int64  \n",
      " 7   promotion_last_5years  14999 non-null  int64  \n",
      " 8   salary                 14999 non-null  int64  \n",
      " 9   dep_IT                 14999 non-null  uint8  \n",
      " 10  dep_RandD              14999 non-null  uint8  \n",
      " 11  dep_accounting         14999 non-null  uint8  \n",
      " 12  dep_hr                 14999 non-null  uint8  \n",
      " 13  dep_management         14999 non-null  uint8  \n",
      " 14  dep_marketing          14999 non-null  uint8  \n",
      " 15  dep_product_mng        14999 non-null  uint8  \n",
      " 16  dep_sales              14999 non-null  uint8  \n",
      " 17  dep_support            14999 non-null  uint8  \n",
      " 18  dep_technical          14999 non-null  uint8  \n",
      "dtypes: float64(2), int64(7), uint8(10)\n",
      "memory usage: 1.2 MB\n"
     ]
    }
   ],
   "source": [
    "df_prep.info()\n",
    "#note the original depertment column no longer exists"
   ]
  },
  {
   "cell_type": "markdown",
   "metadata": {},
   "source": [
    "***Now, all the features are numeric.***"
   ]
  },
  {
   "cell_type": "markdown",
   "metadata": {},
   "source": [
    "## **Split the data to train and test**\n",
    "\n",
    "The more in-depth EDA and data preparations are done only on train data. Test data is set aside, so testing will be objective. Typically 20%-30% of the rows go randomly to test data. \n",
    "\n",
    "**We also need to verify we know what Y we are looking for - in our case the \"left\" value.**"
   ]
  },
  {
   "cell_type": "code",
   "execution_count": 26,
   "metadata": {},
   "outputs": [
    {
     "data": {
      "text/html": [
       "<div>\n",
       "<style scoped>\n",
       "    .dataframe tbody tr th:only-of-type {\n",
       "        vertical-align: middle;\n",
       "    }\n",
       "\n",
       "    .dataframe tbody tr th {\n",
       "        vertical-align: top;\n",
       "    }\n",
       "\n",
       "    .dataframe thead th {\n",
       "        text-align: right;\n",
       "    }\n",
       "</style>\n",
       "<table border=\"1\" class=\"dataframe\">\n",
       "  <thead>\n",
       "    <tr style=\"text-align: right;\">\n",
       "      <th></th>\n",
       "      <th>satisfaction_level</th>\n",
       "      <th>last_evaluation</th>\n",
       "      <th>number_project</th>\n",
       "      <th>average_montly_hours</th>\n",
       "      <th>time_spend_company</th>\n",
       "      <th>Work_accident</th>\n",
       "      <th>left</th>\n",
       "      <th>promotion_last_5years</th>\n",
       "      <th>salary</th>\n",
       "      <th>dep_IT</th>\n",
       "      <th>dep_RandD</th>\n",
       "      <th>dep_accounting</th>\n",
       "      <th>dep_hr</th>\n",
       "      <th>dep_management</th>\n",
       "      <th>dep_marketing</th>\n",
       "      <th>dep_product_mng</th>\n",
       "      <th>dep_sales</th>\n",
       "      <th>dep_support</th>\n",
       "      <th>dep_technical</th>\n",
       "    </tr>\n",
       "  </thead>\n",
       "  <tbody>\n",
       "    <tr>\n",
       "      <th>count</th>\n",
       "      <td>14999.000000</td>\n",
       "      <td>14999.000000</td>\n",
       "      <td>14999.000000</td>\n",
       "      <td>14999.000000</td>\n",
       "      <td>14999.000000</td>\n",
       "      <td>14999.000000</td>\n",
       "      <td>14999.000000</td>\n",
       "      <td>14999.000000</td>\n",
       "      <td>14999.000000</td>\n",
       "      <td>14999.000000</td>\n",
       "      <td>14999.000000</td>\n",
       "      <td>14999.000000</td>\n",
       "      <td>14999.000000</td>\n",
       "      <td>14999.000000</td>\n",
       "      <td>14999.000000</td>\n",
       "      <td>14999.000000</td>\n",
       "      <td>14999.000000</td>\n",
       "      <td>14999.000000</td>\n",
       "      <td>14999.000000</td>\n",
       "    </tr>\n",
       "    <tr>\n",
       "      <th>mean</th>\n",
       "      <td>0.612834</td>\n",
       "      <td>0.716102</td>\n",
       "      <td>3.803054</td>\n",
       "      <td>201.050337</td>\n",
       "      <td>3.498233</td>\n",
       "      <td>0.144610</td>\n",
       "      <td>0.238083</td>\n",
       "      <td>0.021268</td>\n",
       "      <td>0.594706</td>\n",
       "      <td>0.081805</td>\n",
       "      <td>0.052470</td>\n",
       "      <td>0.051137</td>\n",
       "      <td>0.049270</td>\n",
       "      <td>0.042003</td>\n",
       "      <td>0.057204</td>\n",
       "      <td>0.060137</td>\n",
       "      <td>0.276018</td>\n",
       "      <td>0.148610</td>\n",
       "      <td>0.181345</td>\n",
       "    </tr>\n",
       "    <tr>\n",
       "      <th>std</th>\n",
       "      <td>0.248631</td>\n",
       "      <td>0.171169</td>\n",
       "      <td>1.232592</td>\n",
       "      <td>49.943099</td>\n",
       "      <td>1.460136</td>\n",
       "      <td>0.351719</td>\n",
       "      <td>0.425924</td>\n",
       "      <td>0.144281</td>\n",
       "      <td>0.637183</td>\n",
       "      <td>0.274077</td>\n",
       "      <td>0.222981</td>\n",
       "      <td>0.220284</td>\n",
       "      <td>0.216438</td>\n",
       "      <td>0.200602</td>\n",
       "      <td>0.232239</td>\n",
       "      <td>0.237749</td>\n",
       "      <td>0.447041</td>\n",
       "      <td>0.355715</td>\n",
       "      <td>0.385317</td>\n",
       "    </tr>\n",
       "    <tr>\n",
       "      <th>min</th>\n",
       "      <td>0.090000</td>\n",
       "      <td>0.360000</td>\n",
       "      <td>2.000000</td>\n",
       "      <td>96.000000</td>\n",
       "      <td>2.000000</td>\n",
       "      <td>0.000000</td>\n",
       "      <td>0.000000</td>\n",
       "      <td>0.000000</td>\n",
       "      <td>0.000000</td>\n",
       "      <td>0.000000</td>\n",
       "      <td>0.000000</td>\n",
       "      <td>0.000000</td>\n",
       "      <td>0.000000</td>\n",
       "      <td>0.000000</td>\n",
       "      <td>0.000000</td>\n",
       "      <td>0.000000</td>\n",
       "      <td>0.000000</td>\n",
       "      <td>0.000000</td>\n",
       "      <td>0.000000</td>\n",
       "    </tr>\n",
       "    <tr>\n",
       "      <th>25%</th>\n",
       "      <td>0.440000</td>\n",
       "      <td>0.560000</td>\n",
       "      <td>3.000000</td>\n",
       "      <td>156.000000</td>\n",
       "      <td>3.000000</td>\n",
       "      <td>0.000000</td>\n",
       "      <td>0.000000</td>\n",
       "      <td>0.000000</td>\n",
       "      <td>0.000000</td>\n",
       "      <td>0.000000</td>\n",
       "      <td>0.000000</td>\n",
       "      <td>0.000000</td>\n",
       "      <td>0.000000</td>\n",
       "      <td>0.000000</td>\n",
       "      <td>0.000000</td>\n",
       "      <td>0.000000</td>\n",
       "      <td>0.000000</td>\n",
       "      <td>0.000000</td>\n",
       "      <td>0.000000</td>\n",
       "    </tr>\n",
       "    <tr>\n",
       "      <th>50%</th>\n",
       "      <td>0.640000</td>\n",
       "      <td>0.720000</td>\n",
       "      <td>4.000000</td>\n",
       "      <td>200.000000</td>\n",
       "      <td>3.000000</td>\n",
       "      <td>0.000000</td>\n",
       "      <td>0.000000</td>\n",
       "      <td>0.000000</td>\n",
       "      <td>1.000000</td>\n",
       "      <td>0.000000</td>\n",
       "      <td>0.000000</td>\n",
       "      <td>0.000000</td>\n",
       "      <td>0.000000</td>\n",
       "      <td>0.000000</td>\n",
       "      <td>0.000000</td>\n",
       "      <td>0.000000</td>\n",
       "      <td>0.000000</td>\n",
       "      <td>0.000000</td>\n",
       "      <td>0.000000</td>\n",
       "    </tr>\n",
       "    <tr>\n",
       "      <th>75%</th>\n",
       "      <td>0.820000</td>\n",
       "      <td>0.870000</td>\n",
       "      <td>5.000000</td>\n",
       "      <td>245.000000</td>\n",
       "      <td>4.000000</td>\n",
       "      <td>0.000000</td>\n",
       "      <td>0.000000</td>\n",
       "      <td>0.000000</td>\n",
       "      <td>1.000000</td>\n",
       "      <td>0.000000</td>\n",
       "      <td>0.000000</td>\n",
       "      <td>0.000000</td>\n",
       "      <td>0.000000</td>\n",
       "      <td>0.000000</td>\n",
       "      <td>0.000000</td>\n",
       "      <td>0.000000</td>\n",
       "      <td>1.000000</td>\n",
       "      <td>0.000000</td>\n",
       "      <td>0.000000</td>\n",
       "    </tr>\n",
       "    <tr>\n",
       "      <th>max</th>\n",
       "      <td>1.000000</td>\n",
       "      <td>1.000000</td>\n",
       "      <td>7.000000</td>\n",
       "      <td>310.000000</td>\n",
       "      <td>10.000000</td>\n",
       "      <td>1.000000</td>\n",
       "      <td>1.000000</td>\n",
       "      <td>1.000000</td>\n",
       "      <td>2.000000</td>\n",
       "      <td>1.000000</td>\n",
       "      <td>1.000000</td>\n",
       "      <td>1.000000</td>\n",
       "      <td>1.000000</td>\n",
       "      <td>1.000000</td>\n",
       "      <td>1.000000</td>\n",
       "      <td>1.000000</td>\n",
       "      <td>1.000000</td>\n",
       "      <td>1.000000</td>\n",
       "      <td>1.000000</td>\n",
       "    </tr>\n",
       "  </tbody>\n",
       "</table>\n",
       "</div>"
      ],
      "text/plain": [
       "       satisfaction_level  last_evaluation  number_project  \\\n",
       "count        14999.000000     14999.000000    14999.000000   \n",
       "mean             0.612834         0.716102        3.803054   \n",
       "std              0.248631         0.171169        1.232592   \n",
       "min              0.090000         0.360000        2.000000   \n",
       "25%              0.440000         0.560000        3.000000   \n",
       "50%              0.640000         0.720000        4.000000   \n",
       "75%              0.820000         0.870000        5.000000   \n",
       "max              1.000000         1.000000        7.000000   \n",
       "\n",
       "       average_montly_hours  time_spend_company  Work_accident          left  \\\n",
       "count          14999.000000        14999.000000   14999.000000  14999.000000   \n",
       "mean             201.050337            3.498233       0.144610      0.238083   \n",
       "std               49.943099            1.460136       0.351719      0.425924   \n",
       "min               96.000000            2.000000       0.000000      0.000000   \n",
       "25%              156.000000            3.000000       0.000000      0.000000   \n",
       "50%              200.000000            3.000000       0.000000      0.000000   \n",
       "75%              245.000000            4.000000       0.000000      0.000000   \n",
       "max              310.000000           10.000000       1.000000      1.000000   \n",
       "\n",
       "       promotion_last_5years        salary        dep_IT     dep_RandD  \\\n",
       "count           14999.000000  14999.000000  14999.000000  14999.000000   \n",
       "mean                0.021268      0.594706      0.081805      0.052470   \n",
       "std                 0.144281      0.637183      0.274077      0.222981   \n",
       "min                 0.000000      0.000000      0.000000      0.000000   \n",
       "25%                 0.000000      0.000000      0.000000      0.000000   \n",
       "50%                 0.000000      1.000000      0.000000      0.000000   \n",
       "75%                 0.000000      1.000000      0.000000      0.000000   \n",
       "max                 1.000000      2.000000      1.000000      1.000000   \n",
       "\n",
       "       dep_accounting        dep_hr  dep_management  dep_marketing  \\\n",
       "count    14999.000000  14999.000000    14999.000000   14999.000000   \n",
       "mean         0.051137      0.049270        0.042003       0.057204   \n",
       "std          0.220284      0.216438        0.200602       0.232239   \n",
       "min          0.000000      0.000000        0.000000       0.000000   \n",
       "25%          0.000000      0.000000        0.000000       0.000000   \n",
       "50%          0.000000      0.000000        0.000000       0.000000   \n",
       "75%          0.000000      0.000000        0.000000       0.000000   \n",
       "max          1.000000      1.000000        1.000000       1.000000   \n",
       "\n",
       "       dep_product_mng     dep_sales   dep_support  dep_technical  \n",
       "count     14999.000000  14999.000000  14999.000000   14999.000000  \n",
       "mean          0.060137      0.276018      0.148610       0.181345  \n",
       "std           0.237749      0.447041      0.355715       0.385317  \n",
       "min           0.000000      0.000000      0.000000       0.000000  \n",
       "25%           0.000000      0.000000      0.000000       0.000000  \n",
       "50%           0.000000      0.000000      0.000000       0.000000  \n",
       "75%           0.000000      1.000000      0.000000       0.000000  \n",
       "max           1.000000      1.000000      1.000000       1.000000  "
      ]
     },
     "execution_count": 26,
     "metadata": {},
     "output_type": "execute_result"
    }
   ],
   "source": [
    "#Before the split\n",
    "df_prep.describe()"
   ]
  },
  {
   "cell_type": "code",
   "execution_count": 27,
   "metadata": {},
   "outputs": [],
   "source": [
    "train_df, test_df= train_test_split (df_prep, test_size = 0.2, random_state=7) \n",
    "# note there is no output on the command!\n",
    "# train_test_split is from sklearn. It requiers that all data is numerical (as we made sure in section b)\n",
    "# If the prediction class in y is very small percent, then add a parameter startify = y ; this makes sure there are enough samples of the \"positive\" value"
   ]
  },
  {
   "cell_type": "code",
   "execution_count": 28,
   "metadata": {},
   "outputs": [
    {
     "data": {
      "text/html": [
       "<div>\n",
       "<style scoped>\n",
       "    .dataframe tbody tr th:only-of-type {\n",
       "        vertical-align: middle;\n",
       "    }\n",
       "\n",
       "    .dataframe tbody tr th {\n",
       "        vertical-align: top;\n",
       "    }\n",
       "\n",
       "    .dataframe thead th {\n",
       "        text-align: right;\n",
       "    }\n",
       "</style>\n",
       "<table border=\"1\" class=\"dataframe\">\n",
       "  <thead>\n",
       "    <tr style=\"text-align: right;\">\n",
       "      <th></th>\n",
       "      <th>satisfaction_level</th>\n",
       "      <th>last_evaluation</th>\n",
       "      <th>number_project</th>\n",
       "      <th>average_montly_hours</th>\n",
       "      <th>time_spend_company</th>\n",
       "      <th>Work_accident</th>\n",
       "      <th>left</th>\n",
       "      <th>promotion_last_5years</th>\n",
       "      <th>salary</th>\n",
       "      <th>dep_IT</th>\n",
       "      <th>dep_RandD</th>\n",
       "      <th>dep_accounting</th>\n",
       "      <th>dep_hr</th>\n",
       "      <th>dep_management</th>\n",
       "      <th>dep_marketing</th>\n",
       "      <th>dep_product_mng</th>\n",
       "      <th>dep_sales</th>\n",
       "      <th>dep_support</th>\n",
       "      <th>dep_technical</th>\n",
       "    </tr>\n",
       "  </thead>\n",
       "  <tbody>\n",
       "    <tr>\n",
       "      <th>count</th>\n",
       "      <td>11999.000000</td>\n",
       "      <td>11999.000000</td>\n",
       "      <td>11999.000000</td>\n",
       "      <td>11999.000000</td>\n",
       "      <td>11999.000000</td>\n",
       "      <td>11999.000000</td>\n",
       "      <td>11999.000000</td>\n",
       "      <td>11999.000000</td>\n",
       "      <td>11999.000000</td>\n",
       "      <td>11999.000000</td>\n",
       "      <td>11999.000000</td>\n",
       "      <td>11999.000000</td>\n",
       "      <td>11999.000000</td>\n",
       "      <td>11999.000000</td>\n",
       "      <td>11999.000000</td>\n",
       "      <td>11999.000000</td>\n",
       "      <td>11999.000000</td>\n",
       "      <td>11999.000000</td>\n",
       "      <td>11999.000000</td>\n",
       "    </tr>\n",
       "    <tr>\n",
       "      <th>mean</th>\n",
       "      <td>0.611717</td>\n",
       "      <td>0.716795</td>\n",
       "      <td>3.810651</td>\n",
       "      <td>201.333528</td>\n",
       "      <td>3.505542</td>\n",
       "      <td>0.140845</td>\n",
       "      <td>0.240687</td>\n",
       "      <td>0.021835</td>\n",
       "      <td>0.593549</td>\n",
       "      <td>0.081257</td>\n",
       "      <td>0.052921</td>\n",
       "      <td>0.052588</td>\n",
       "      <td>0.047087</td>\n",
       "      <td>0.043087</td>\n",
       "      <td>0.058505</td>\n",
       "      <td>0.058755</td>\n",
       "      <td>0.274190</td>\n",
       "      <td>0.149012</td>\n",
       "      <td>0.182599</td>\n",
       "    </tr>\n",
       "    <tr>\n",
       "      <th>std</th>\n",
       "      <td>0.249096</td>\n",
       "      <td>0.171054</td>\n",
       "      <td>1.237230</td>\n",
       "      <td>50.078128</td>\n",
       "      <td>1.463889</td>\n",
       "      <td>0.347876</td>\n",
       "      <td>0.427518</td>\n",
       "      <td>0.146151</td>\n",
       "      <td>0.639372</td>\n",
       "      <td>0.273240</td>\n",
       "      <td>0.223885</td>\n",
       "      <td>0.223218</td>\n",
       "      <td>0.211834</td>\n",
       "      <td>0.203061</td>\n",
       "      <td>0.234705</td>\n",
       "      <td>0.235175</td>\n",
       "      <td>0.446124</td>\n",
       "      <td>0.356116</td>\n",
       "      <td>0.386353</td>\n",
       "    </tr>\n",
       "    <tr>\n",
       "      <th>min</th>\n",
       "      <td>0.090000</td>\n",
       "      <td>0.360000</td>\n",
       "      <td>2.000000</td>\n",
       "      <td>96.000000</td>\n",
       "      <td>2.000000</td>\n",
       "      <td>0.000000</td>\n",
       "      <td>0.000000</td>\n",
       "      <td>0.000000</td>\n",
       "      <td>0.000000</td>\n",
       "      <td>0.000000</td>\n",
       "      <td>0.000000</td>\n",
       "      <td>0.000000</td>\n",
       "      <td>0.000000</td>\n",
       "      <td>0.000000</td>\n",
       "      <td>0.000000</td>\n",
       "      <td>0.000000</td>\n",
       "      <td>0.000000</td>\n",
       "      <td>0.000000</td>\n",
       "      <td>0.000000</td>\n",
       "    </tr>\n",
       "    <tr>\n",
       "      <th>25%</th>\n",
       "      <td>0.440000</td>\n",
       "      <td>0.560000</td>\n",
       "      <td>3.000000</td>\n",
       "      <td>156.000000</td>\n",
       "      <td>3.000000</td>\n",
       "      <td>0.000000</td>\n",
       "      <td>0.000000</td>\n",
       "      <td>0.000000</td>\n",
       "      <td>0.000000</td>\n",
       "      <td>0.000000</td>\n",
       "      <td>0.000000</td>\n",
       "      <td>0.000000</td>\n",
       "      <td>0.000000</td>\n",
       "      <td>0.000000</td>\n",
       "      <td>0.000000</td>\n",
       "      <td>0.000000</td>\n",
       "      <td>0.000000</td>\n",
       "      <td>0.000000</td>\n",
       "      <td>0.000000</td>\n",
       "    </tr>\n",
       "    <tr>\n",
       "      <th>50%</th>\n",
       "      <td>0.640000</td>\n",
       "      <td>0.720000</td>\n",
       "      <td>4.000000</td>\n",
       "      <td>201.000000</td>\n",
       "      <td>3.000000</td>\n",
       "      <td>0.000000</td>\n",
       "      <td>0.000000</td>\n",
       "      <td>0.000000</td>\n",
       "      <td>1.000000</td>\n",
       "      <td>0.000000</td>\n",
       "      <td>0.000000</td>\n",
       "      <td>0.000000</td>\n",
       "      <td>0.000000</td>\n",
       "      <td>0.000000</td>\n",
       "      <td>0.000000</td>\n",
       "      <td>0.000000</td>\n",
       "      <td>0.000000</td>\n",
       "      <td>0.000000</td>\n",
       "      <td>0.000000</td>\n",
       "    </tr>\n",
       "    <tr>\n",
       "      <th>75%</th>\n",
       "      <td>0.820000</td>\n",
       "      <td>0.870000</td>\n",
       "      <td>5.000000</td>\n",
       "      <td>245.000000</td>\n",
       "      <td>4.000000</td>\n",
       "      <td>0.000000</td>\n",
       "      <td>0.000000</td>\n",
       "      <td>0.000000</td>\n",
       "      <td>1.000000</td>\n",
       "      <td>0.000000</td>\n",
       "      <td>0.000000</td>\n",
       "      <td>0.000000</td>\n",
       "      <td>0.000000</td>\n",
       "      <td>0.000000</td>\n",
       "      <td>0.000000</td>\n",
       "      <td>0.000000</td>\n",
       "      <td>1.000000</td>\n",
       "      <td>0.000000</td>\n",
       "      <td>0.000000</td>\n",
       "    </tr>\n",
       "    <tr>\n",
       "      <th>max</th>\n",
       "      <td>1.000000</td>\n",
       "      <td>1.000000</td>\n",
       "      <td>7.000000</td>\n",
       "      <td>310.000000</td>\n",
       "      <td>10.000000</td>\n",
       "      <td>1.000000</td>\n",
       "      <td>1.000000</td>\n",
       "      <td>1.000000</td>\n",
       "      <td>2.000000</td>\n",
       "      <td>1.000000</td>\n",
       "      <td>1.000000</td>\n",
       "      <td>1.000000</td>\n",
       "      <td>1.000000</td>\n",
       "      <td>1.000000</td>\n",
       "      <td>1.000000</td>\n",
       "      <td>1.000000</td>\n",
       "      <td>1.000000</td>\n",
       "      <td>1.000000</td>\n",
       "      <td>1.000000</td>\n",
       "    </tr>\n",
       "  </tbody>\n",
       "</table>\n",
       "</div>"
      ],
      "text/plain": [
       "       satisfaction_level  last_evaluation  number_project  \\\n",
       "count        11999.000000     11999.000000    11999.000000   \n",
       "mean             0.611717         0.716795        3.810651   \n",
       "std              0.249096         0.171054        1.237230   \n",
       "min              0.090000         0.360000        2.000000   \n",
       "25%              0.440000         0.560000        3.000000   \n",
       "50%              0.640000         0.720000        4.000000   \n",
       "75%              0.820000         0.870000        5.000000   \n",
       "max              1.000000         1.000000        7.000000   \n",
       "\n",
       "       average_montly_hours  time_spend_company  Work_accident          left  \\\n",
       "count          11999.000000        11999.000000   11999.000000  11999.000000   \n",
       "mean             201.333528            3.505542       0.140845      0.240687   \n",
       "std               50.078128            1.463889       0.347876      0.427518   \n",
       "min               96.000000            2.000000       0.000000      0.000000   \n",
       "25%              156.000000            3.000000       0.000000      0.000000   \n",
       "50%              201.000000            3.000000       0.000000      0.000000   \n",
       "75%              245.000000            4.000000       0.000000      0.000000   \n",
       "max              310.000000           10.000000       1.000000      1.000000   \n",
       "\n",
       "       promotion_last_5years        salary        dep_IT     dep_RandD  \\\n",
       "count           11999.000000  11999.000000  11999.000000  11999.000000   \n",
       "mean                0.021835      0.593549      0.081257      0.052921   \n",
       "std                 0.146151      0.639372      0.273240      0.223885   \n",
       "min                 0.000000      0.000000      0.000000      0.000000   \n",
       "25%                 0.000000      0.000000      0.000000      0.000000   \n",
       "50%                 0.000000      1.000000      0.000000      0.000000   \n",
       "75%                 0.000000      1.000000      0.000000      0.000000   \n",
       "max                 1.000000      2.000000      1.000000      1.000000   \n",
       "\n",
       "       dep_accounting        dep_hr  dep_management  dep_marketing  \\\n",
       "count    11999.000000  11999.000000    11999.000000   11999.000000   \n",
       "mean         0.052588      0.047087        0.043087       0.058505   \n",
       "std          0.223218      0.211834        0.203061       0.234705   \n",
       "min          0.000000      0.000000        0.000000       0.000000   \n",
       "25%          0.000000      0.000000        0.000000       0.000000   \n",
       "50%          0.000000      0.000000        0.000000       0.000000   \n",
       "75%          0.000000      0.000000        0.000000       0.000000   \n",
       "max          1.000000      1.000000        1.000000       1.000000   \n",
       "\n",
       "       dep_product_mng     dep_sales   dep_support  dep_technical  \n",
       "count     11999.000000  11999.000000  11999.000000   11999.000000  \n",
       "mean          0.058755      0.274190      0.149012       0.182599  \n",
       "std           0.235175      0.446124      0.356116       0.386353  \n",
       "min           0.000000      0.000000      0.000000       0.000000  \n",
       "25%           0.000000      0.000000      0.000000       0.000000  \n",
       "50%           0.000000      0.000000      0.000000       0.000000  \n",
       "75%           0.000000      1.000000      0.000000       0.000000  \n",
       "max           1.000000      1.000000      1.000000       1.000000  "
      ]
     },
     "execution_count": 28,
     "metadata": {},
     "output_type": "execute_result"
    }
   ],
   "source": [
    "# After the split\n",
    "train_df.describe()"
   ]
  },
  {
   "cell_type": "markdown",
   "metadata": {},
   "source": [
    "# Classification\n",
    "## Define Target Value\n",
    "#### - For Classification our target value will be the \"left\" value, in order to predict attrition."
   ]
  },
  {
   "cell_type": "markdown",
   "metadata": {},
   "source": [
    "#### Try to find potential features impacting the target value (done on Train data only!)\n",
    "This is only an example - much more can be done using various visuals (scatter plots, box plots) and analysis."
   ]
  },
  {
   "cell_type": "code",
   "execution_count": 31,
   "metadata": {},
   "outputs": [
    {
     "data": {
      "text/html": [
       "<div>\n",
       "<style scoped>\n",
       "    .dataframe tbody tr th:only-of-type {\n",
       "        vertical-align: middle;\n",
       "    }\n",
       "\n",
       "    .dataframe tbody tr th {\n",
       "        vertical-align: top;\n",
       "    }\n",
       "\n",
       "    .dataframe thead th {\n",
       "        text-align: right;\n",
       "    }\n",
       "</style>\n",
       "<table border=\"1\" class=\"dataframe\">\n",
       "  <thead>\n",
       "    <tr style=\"text-align: right;\">\n",
       "      <th></th>\n",
       "      <th>satisfaction_level</th>\n",
       "      <th>last_evaluation</th>\n",
       "      <th>number_project</th>\n",
       "      <th>average_montly_hours</th>\n",
       "      <th>time_spend_company</th>\n",
       "      <th>Work_accident</th>\n",
       "      <th>promotion_last_5years</th>\n",
       "      <th>salary</th>\n",
       "      <th>dep_IT</th>\n",
       "      <th>dep_RandD</th>\n",
       "      <th>dep_accounting</th>\n",
       "      <th>dep_hr</th>\n",
       "      <th>dep_management</th>\n",
       "      <th>dep_marketing</th>\n",
       "      <th>dep_product_mng</th>\n",
       "      <th>dep_sales</th>\n",
       "      <th>dep_support</th>\n",
       "      <th>dep_technical</th>\n",
       "    </tr>\n",
       "    <tr>\n",
       "      <th>left</th>\n",
       "      <th></th>\n",
       "      <th></th>\n",
       "      <th></th>\n",
       "      <th></th>\n",
       "      <th></th>\n",
       "      <th></th>\n",
       "      <th></th>\n",
       "      <th></th>\n",
       "      <th></th>\n",
       "      <th></th>\n",
       "      <th></th>\n",
       "      <th></th>\n",
       "      <th></th>\n",
       "      <th></th>\n",
       "      <th></th>\n",
       "      <th></th>\n",
       "      <th></th>\n",
       "      <th></th>\n",
       "    </tr>\n",
       "  </thead>\n",
       "  <tbody>\n",
       "    <tr>\n",
       "      <th>0</th>\n",
       "      <td>0.666359</td>\n",
       "      <td>0.715567</td>\n",
       "      <td>3.787729</td>\n",
       "      <td>199.112721</td>\n",
       "      <td>3.385029</td>\n",
       "      <td>0.170344</td>\n",
       "      <td>0.02700</td>\n",
       "      <td>0.650313</td>\n",
       "      <td>0.081989</td>\n",
       "      <td>0.059159</td>\n",
       "      <td>0.050159</td>\n",
       "      <td>0.043793</td>\n",
       "      <td>0.048293</td>\n",
       "      <td>0.059379</td>\n",
       "      <td>0.060476</td>\n",
       "      <td>0.273186</td>\n",
       "      <td>0.145977</td>\n",
       "      <td>0.177588</td>\n",
       "    </tr>\n",
       "    <tr>\n",
       "      <th>1</th>\n",
       "      <td>0.439332</td>\n",
       "      <td>0.720668</td>\n",
       "      <td>3.882964</td>\n",
       "      <td>208.339681</td>\n",
       "      <td>3.885734</td>\n",
       "      <td>0.047784</td>\n",
       "      <td>0.00554</td>\n",
       "      <td>0.414474</td>\n",
       "      <td>0.078947</td>\n",
       "      <td>0.033241</td>\n",
       "      <td>0.060249</td>\n",
       "      <td>0.057479</td>\n",
       "      <td>0.026662</td>\n",
       "      <td>0.055748</td>\n",
       "      <td>0.053324</td>\n",
       "      <td>0.277355</td>\n",
       "      <td>0.158587</td>\n",
       "      <td>0.198407</td>\n",
       "    </tr>\n",
       "  </tbody>\n",
       "</table>\n",
       "</div>"
      ],
      "text/plain": [
       "      satisfaction_level  last_evaluation  number_project  \\\n",
       "left                                                        \n",
       "0               0.666359         0.715567        3.787729   \n",
       "1               0.439332         0.720668        3.882964   \n",
       "\n",
       "      average_montly_hours  time_spend_company  Work_accident  \\\n",
       "left                                                            \n",
       "0               199.112721            3.385029       0.170344   \n",
       "1               208.339681            3.885734       0.047784   \n",
       "\n",
       "      promotion_last_5years    salary    dep_IT  dep_RandD  dep_accounting  \\\n",
       "left                                                                         \n",
       "0                   0.02700  0.650313  0.081989   0.059159        0.050159   \n",
       "1                   0.00554  0.414474  0.078947   0.033241        0.060249   \n",
       "\n",
       "        dep_hr  dep_management  dep_marketing  dep_product_mng  dep_sales  \\\n",
       "left                                                                        \n",
       "0     0.043793        0.048293       0.059379         0.060476   0.273186   \n",
       "1     0.057479        0.026662       0.055748         0.053324   0.277355   \n",
       "\n",
       "      dep_support  dep_technical  \n",
       "left                              \n",
       "0        0.145977       0.177588  \n",
       "1        0.158587       0.198407  "
      ]
     },
     "execution_count": 31,
     "metadata": {},
     "output_type": "execute_result"
    }
   ],
   "source": [
    "train_df.groupby(['left']).mean()"
   ]
  },
  {
   "cell_type": "code",
   "execution_count": 32,
   "metadata": {
    "tags": []
   },
   "outputs": [
    {
     "data": {
      "image/png": "[encoded data removed]",
      "text/plain": [
       "<Figure size 432x288 with 1 Axes>"
      ]
     },
     "metadata": {
      "needs_background": "light"
     },
     "output_type": "display_data"
    }
   ],
   "source": [
    "# deeper look at the distribution comparison within one of the \"stronger\" features\n",
    "plt.hist(train_df[train_df[\"left\"] ==0][\"satisfaction_level\"], bins=50, color='blue', alpha = 0.5)\n",
    "plt.hist(train_df[train_df[\"left\"] ==1][\"satisfaction_level\"], bins=50, color='red', alpha = 0.5)\n",
    "plt.show()"
   ]
  },
  {
   "cell_type": "markdown",
   "metadata": {},
   "source": [
    "## **Classification Trees**"
   ]
  },
  {
   "cell_type": "markdown",
   "metadata": {},
   "source": [
    "### The building of the tree is done based on the Train data only!\n",
    "### We need to split the train_df to X (all features) and y (target) "
   ]
  },
  {
   "cell_type": "code",
   "execution_count": 35,
   "metadata": {},
   "outputs": [],
   "source": [
    "X = train_df.drop(\"left\", axis=1)"
   ]
  },
  {
   "cell_type": "code",
   "execution_count": 36,
   "metadata": {},
   "outputs": [],
   "source": [
    "y = train_df[\"left\"]"
   ]
  },
  {
   "cell_type": "code",
   "execution_count": 37,
   "metadata": {},
   "outputs": [
    {
     "data": {
      "text/plain": [
       "14842    1\n",
       "13070    0\n",
       "10444    0\n",
       "7885     0\n",
       "7796     0\n",
       "Name: left, dtype: int64"
      ]
     },
     "execution_count": 37,
     "metadata": {},
     "output_type": "execute_result"
    }
   ],
   "source": [
    "y.head()"
   ]
  },
  {
   "cell_type": "code",
   "execution_count": 38,
   "metadata": {},
   "outputs": [
    {
     "data": {
      "text/html": [
       "<div>\n",
       "<style scoped>\n",
       "    .dataframe tbody tr th:only-of-type {\n",
       "        vertical-align: middle;\n",
       "    }\n",
       "\n",
       "    .dataframe tbody tr th {\n",
       "        vertical-align: top;\n",
       "    }\n",
       "\n",
       "    .dataframe thead th {\n",
       "        text-align: right;\n",
       "    }\n",
       "</style>\n",
       "<table border=\"1\" class=\"dataframe\">\n",
       "  <thead>\n",
       "    <tr style=\"text-align: right;\">\n",
       "      <th></th>\n",
       "      <th>satisfaction_level</th>\n",
       "      <th>last_evaluation</th>\n",
       "      <th>number_project</th>\n",
       "      <th>average_montly_hours</th>\n",
       "      <th>time_spend_company</th>\n",
       "      <th>Work_accident</th>\n",
       "      <th>promotion_last_5years</th>\n",
       "      <th>salary</th>\n",
       "      <th>dep_IT</th>\n",
       "      <th>dep_RandD</th>\n",
       "      <th>dep_accounting</th>\n",
       "      <th>dep_hr</th>\n",
       "      <th>dep_management</th>\n",
       "      <th>dep_marketing</th>\n",
       "      <th>dep_product_mng</th>\n",
       "      <th>dep_sales</th>\n",
       "      <th>dep_support</th>\n",
       "      <th>dep_technical</th>\n",
       "    </tr>\n",
       "  </thead>\n",
       "  <tbody>\n",
       "    <tr>\n",
       "      <th>14842</th>\n",
       "      <td>0.34</td>\n",
       "      <td>0.67</td>\n",
       "      <td>4</td>\n",
       "      <td>141</td>\n",
       "      <td>2</td>\n",
       "      <td>0</td>\n",
       "      <td>0</td>\n",
       "      <td>0</td>\n",
       "      <td>0</td>\n",
       "      <td>0</td>\n",
       "      <td>0</td>\n",
       "      <td>0</td>\n",
       "      <td>0</td>\n",
       "      <td>0</td>\n",
       "      <td>0</td>\n",
       "      <td>1</td>\n",
       "      <td>0</td>\n",
       "      <td>0</td>\n",
       "    </tr>\n",
       "    <tr>\n",
       "      <th>13070</th>\n",
       "      <td>0.73</td>\n",
       "      <td>0.69</td>\n",
       "      <td>3</td>\n",
       "      <td>228</td>\n",
       "      <td>2</td>\n",
       "      <td>0</td>\n",
       "      <td>1</td>\n",
       "      <td>1</td>\n",
       "      <td>0</td>\n",
       "      <td>0</td>\n",
       "      <td>0</td>\n",
       "      <td>0</td>\n",
       "      <td>0</td>\n",
       "      <td>0</td>\n",
       "      <td>0</td>\n",
       "      <td>1</td>\n",
       "      <td>0</td>\n",
       "      <td>0</td>\n",
       "    </tr>\n",
       "    <tr>\n",
       "      <th>10444</th>\n",
       "      <td>0.63</td>\n",
       "      <td>0.89</td>\n",
       "      <td>3</td>\n",
       "      <td>239</td>\n",
       "      <td>3</td>\n",
       "      <td>0</td>\n",
       "      <td>0</td>\n",
       "      <td>1</td>\n",
       "      <td>1</td>\n",
       "      <td>0</td>\n",
       "      <td>0</td>\n",
       "      <td>0</td>\n",
       "      <td>0</td>\n",
       "      <td>0</td>\n",
       "      <td>0</td>\n",
       "      <td>0</td>\n",
       "      <td>0</td>\n",
       "      <td>0</td>\n",
       "    </tr>\n",
       "    <tr>\n",
       "      <th>7885</th>\n",
       "      <td>0.72</td>\n",
       "      <td>0.60</td>\n",
       "      <td>3</td>\n",
       "      <td>265</td>\n",
       "      <td>2</td>\n",
       "      <td>1</td>\n",
       "      <td>0</td>\n",
       "      <td>2</td>\n",
       "      <td>0</td>\n",
       "      <td>0</td>\n",
       "      <td>0</td>\n",
       "      <td>0</td>\n",
       "      <td>0</td>\n",
       "      <td>0</td>\n",
       "      <td>0</td>\n",
       "      <td>1</td>\n",
       "      <td>0</td>\n",
       "      <td>0</td>\n",
       "    </tr>\n",
       "    <tr>\n",
       "      <th>7796</th>\n",
       "      <td>0.57</td>\n",
       "      <td>0.85</td>\n",
       "      <td>4</td>\n",
       "      <td>152</td>\n",
       "      <td>3</td>\n",
       "      <td>0</td>\n",
       "      <td>0</td>\n",
       "      <td>1</td>\n",
       "      <td>0</td>\n",
       "      <td>0</td>\n",
       "      <td>0</td>\n",
       "      <td>0</td>\n",
       "      <td>0</td>\n",
       "      <td>0</td>\n",
       "      <td>0</td>\n",
       "      <td>1</td>\n",
       "      <td>0</td>\n",
       "      <td>0</td>\n",
       "    </tr>\n",
       "  </tbody>\n",
       "</table>\n",
       "</div>"
      ],
      "text/plain": [
       "       satisfaction_level  last_evaluation  number_project  \\\n",
       "14842                0.34             0.67               4   \n",
       "13070                0.73             0.69               3   \n",
       "10444                0.63             0.89               3   \n",
       "7885                 0.72             0.60               3   \n",
       "7796                 0.57             0.85               4   \n",
       "\n",
       "       average_montly_hours  time_spend_company  Work_accident  \\\n",
       "14842                   141                   2              0   \n",
       "13070                   228                   2              0   \n",
       "10444                   239                   3              0   \n",
       "7885                    265                   2              1   \n",
       "7796                    152                   3              0   \n",
       "\n",
       "       promotion_last_5years  salary  dep_IT  dep_RandD  dep_accounting  \\\n",
       "14842                      0       0       0          0               0   \n",
       "13070                      1       1       0          0               0   \n",
       "10444                      0       1       1          0               0   \n",
       "7885                       0       2       0          0               0   \n",
       "7796                       0       1       0          0               0   \n",
       "\n",
       "       dep_hr  dep_management  dep_marketing  dep_product_mng  dep_sales  \\\n",
       "14842       0               0              0                0          1   \n",
       "13070       0               0              0                0          1   \n",
       "10444       0               0              0                0          0   \n",
       "7885        0               0              0                0          1   \n",
       "7796        0               0              0                0          1   \n",
       "\n",
       "       dep_support  dep_technical  \n",
       "14842            0              0  \n",
       "13070            0              0  \n",
       "10444            0              0  \n",
       "7885             0              0  \n",
       "7796             0              0  "
      ]
     },
     "execution_count": 38,
     "metadata": {},
     "output_type": "execute_result"
    }
   ],
   "source": [
    "X.head()"
   ]
  },
  {
   "cell_type": "markdown",
   "metadata": {},
   "source": [
    "### Now we can call the model we want to use and build a few optional trees. We can change the data input and the model hyperparametes."
   ]
  },
  {
   "cell_type": "code",
   "execution_count": 40,
   "metadata": {},
   "outputs": [],
   "source": [
    "# from sklearn.tree import DecisionTreeClassifier"
   ]
  },
  {
   "cell_type": "markdown",
   "metadata": {},
   "source": [
    "### Tree 1 - using 3 fields that seem to show medium impact, and low depth tree"
   ]
  },
  {
   "cell_type": "code",
   "execution_count": 42,
   "metadata": {},
   "outputs": [],
   "source": [
    "X1 = X[[\"number_project\",\"time_spend_company\",\"dep_technical\"]]"
   ]
  },
  {
   "cell_type": "code",
   "execution_count": 43,
   "metadata": {},
   "outputs": [],
   "source": [
    "tree1 = DecisionTreeClassifier(max_depth=2)"
   ]
  },
  {
   "cell_type": "code",
   "execution_count": 44,
   "metadata": {},
   "outputs": [
    {
     "data": {
      "text/plain": [
       "DecisionTreeClassifier(max_depth=2)"
      ]
     },
     "execution_count": 44,
     "metadata": {},
     "output_type": "execute_result"
    }
   ],
   "source": [
    "tree1.fit(X1,y)"
   ]
  },
  {
   "cell_type": "markdown",
   "metadata": {},
   "source": [
    "### Tree 2 - using 3 fields that show potential higher impact, and deeper tree"
   ]
  },
  {
   "cell_type": "code",
   "execution_count": 46,
   "metadata": {},
   "outputs": [],
   "source": [
    "X2 = X[[\"satisfaction_level\",\"salary\",\"average_montly_hours\"]]"
   ]
  },
  {
   "cell_type": "code",
   "execution_count": 47,
   "metadata": {},
   "outputs": [],
   "source": [
    "tree2 = DecisionTreeClassifier(max_depth=5)"
   ]
  },
  {
   "cell_type": "code",
   "execution_count": 48,
   "metadata": {},
   "outputs": [
    {
     "data": {
      "text/plain": [
       "DecisionTreeClassifier(max_depth=5)"
      ]
     },
     "execution_count": 48,
     "metadata": {},
     "output_type": "execute_result"
    }
   ],
   "source": [
    "tree2.fit(X2,y)"
   ]
  },
  {
   "cell_type": "markdown",
   "metadata": {},
   "source": [
    "## **Evaluate the Results**"
   ]
  },
  {
   "cell_type": "markdown",
   "metadata": {},
   "source": [
    "### Run models on Test data"
   ]
  },
  {
   "cell_type": "code",
   "execution_count": 51,
   "metadata": {},
   "outputs": [],
   "source": [
    "#Create X and y for test\n",
    "X_test = test_df.drop(\"left\", axis=1)\n",
    "y_test = test_df[\"left\"]"
   ]
  },
  {
   "cell_type": "code",
   "execution_count": 52,
   "metadata": {},
   "outputs": [],
   "source": [
    "#Run predictions using the 3 trees.\n",
    "# For each we need to have the same X structure as in the train stage\n",
    "y_test_predict1 = tree1.predict(X_test[[\"number_project\",\"time_spend_company\",\"dep_technical\"]])\n",
    "y_test_predict2 = tree2.predict(X_test[[\"satisfaction_level\",\"salary\",\"average_montly_hours\"]])"
   ]
  },
  {
   "cell_type": "markdown",
   "metadata": {},
   "source": [
    "### Confusion Matrix"
   ]
  },
  {
   "cell_type": "code",
   "execution_count": 54,
   "metadata": {},
   "outputs": [],
   "source": [
    "#from sklearn.metrics import confusion_matrix"
   ]
  },
  {
   "cell_type": "code",
   "execution_count": 55,
   "metadata": {},
   "outputs": [
    {
     "name": "stdout",
     "output_type": "stream",
     "text": [
      "Confusion Matrix Tree 1 prediction: \n",
      " [[2199  118]\n",
      " [ 375  308]] \n",
      "\n",
      "Confusion Matrix Tree 2 prediction:\n",
      " [[2293   24]\n",
      " [ 218  465]] \n",
      "\n"
     ]
    }
   ],
   "source": [
    "print(\"Confusion Matrix Tree 1 prediction: \\n\", confusion_matrix(y_test, y_test_predict1),\"\\n\")\n",
    "print(\"Confusion Matrix Tree 2 prediction:\\n\", confusion_matrix(y_test, y_test_predict2),\"\\n\")  "
   ]
  },
  {
   "cell_type": "code",
   "execution_count": 56,
   "metadata": {},
   "outputs": [
    {
     "name": "stdout",
     "output_type": "stream",
     "text": [
      "Confusion Matrix Tree 1 on Train:\n",
      " [[8686  425]\n",
      " [1661 1227]] \n",
      "\n",
      "Confusion Matrix Tree 2 on Train:\n",
      " [[9015   96]\n",
      " [ 924 1964]] \n",
      "\n"
     ]
    }
   ],
   "source": [
    "# We also want to calculate the measurements on the train data to check overfitting: \n",
    "\n",
    "y_train_predict1 = tree1.predict(X1)\n",
    "y_train_predict2 = tree2.predict(X2)\n",
    "\n",
    "print(\"Confusion Matrix Tree 1 on Train:\\n\", confusion_matrix(y, y_train_predict1),\"\\n\")\n",
    "print(\"Confusion Matrix Tree 2 on Train:\\n\", confusion_matrix(y, y_train_predict2),\"\\n\") "
   ]
  },
  {
   "cell_type": "markdown",
   "metadata": {},
   "source": [
    "### Precision and Recall"
   ]
  },
  {
   "cell_type": "code",
   "execution_count": 58,
   "metadata": {},
   "outputs": [],
   "source": [
    "# from sklearn.metrics import precision_score, recall_score"
   ]
  },
  {
   "cell_type": "code",
   "execution_count": 59,
   "metadata": {},
   "outputs": [
    {
     "name": "stdout",
     "output_type": "stream",
     "text": [
      "The precision for Tree 1 is  0.7230046948356808\n",
      "The recall for Tree 1 is  0.45095168374816985 \n",
      "\n",
      "The precision for Tree 2 is  0.950920245398773\n",
      "The recall for Tree 2 is  0.6808199121522694 \n",
      "\n"
     ]
    }
   ],
   "source": [
    "print(\"The precision for Tree 1 is \",precision_score(y_test, y_test_predict1)) \n",
    "print(\"The recall for Tree 1 is \",recall_score(y_test, y_test_predict1),\"\\n\")\n",
    "print(\"The precision for Tree 2 is \",precision_score(y_test, y_test_predict2)) \n",
    "print(\"The recall for Tree 2 is \",recall_score(y_test, y_test_predict2),\"\\n\")  "
   ]
  },
  {
   "cell_type": "code",
   "execution_count": 60,
   "metadata": {},
   "outputs": [
    {
     "name": "stdout",
     "output_type": "stream",
     "text": [
      "The precision for Tree 1 on TRAIN is  0.7427360774818402\n",
      "The recall for Tree 1 on TRAIN is  0.42486149584487537 \n",
      "\n",
      "The precision for Tree 2 on TRAIN is  0.9533980582524272\n",
      "The recall for Tree 2 on TRAIN is  0.6800554016620498 \n",
      "\n"
     ]
    }
   ],
   "source": [
    "print(\"The precision for Tree 1 on TRAIN is \",precision_score(y, y_train_predict1)) \n",
    "print(\"The recall for Tree 1 on TRAIN is \",recall_score(y, y_train_predict1),\"\\n\")  \n",
    "print(\"The precision for Tree 2 on TRAIN is \",precision_score(y, y_train_predict2)) \n",
    "print(\"The recall for Tree 2 on TRAIN is \",recall_score(y, y_train_predict2),\"\\n\")  "
   ]
  },
  {
   "cell_type": "markdown",
   "metadata": {},
   "source": [
    "#### - Both trees behave quite similarly in train and test, meaning they are robust and reliable (no overfitting).\n",
    "#### - Tree 2 has much better results, but are they good enough? The question whether it is good enough overall is based on our business needs (are we ok with false detections? Are we ok with misses?) \n",
    "#### - We can of course keep improving by providing better data (more features, collect more samples), tuning the hyperparameters or by using more advanced models."
   ]
  },
  {
   "cell_type": "markdown",
   "metadata": {},
   "source": [
    "## **Predict using chosen tree**"
   ]
  },
  {
   "cell_type": "code",
   "execution_count": 63,
   "metadata": {},
   "outputs": [
    {
     "name": "stdout",
     "output_type": "stream",
     "text": [
      "values in test are:\n",
      "        satisfaction_level  salary  average_montly_hours  left\n",
      "5448                 0.99       0                   195     0\n",
      "1458                 0.40       0                   136     1\n",
      "4154                 0.98       1                   150     0\n",
      "11239                0.82       2                   214     0\n",
      "12545                0.78       1                   236     1\n",
      "4970                 0.74       1                   257     0 \n",
      "\n",
      "prediction is [0 1 0 0 0 0] \n",
      "\n",
      "prediction PROBABILITY is: [[1.         0.        ]\n",
      " [0.073115   0.926885  ]\n",
      " [1.         0.        ]\n",
      " [0.99122807 0.00877193]\n",
      " [0.7110885  0.2889115 ]\n",
      " [0.7110885  0.2889115 ]]\n"
     ]
    }
   ],
   "source": [
    "# predict using Tree2\n",
    "print(\"values in test are:\\n\", test_df[[\"satisfaction_level\",\"salary\",\"average_montly_hours\",\"left\"]][17:23],\"\\n\")\n",
    "print(\"prediction is\", tree2.predict(test_df[[\"satisfaction_level\",\"salary\",\"average_montly_hours\"]][17:23]),\"\\n\")\n",
    "print(\"prediction PROBABILITY is:\", tree2.predict_proba(test_df[[\"satisfaction_level\",\"salary\",\"average_montly_hours\"]][17:23]))\n"
   ]
  },
  {
   "cell_type": "markdown",
   "metadata": {},
   "source": [
    "# Ensemble Learning: Random Forest and Gradient Boosting"
   ]
  },
  {
   "cell_type": "code",
   "execution_count": 65,
   "metadata": {},
   "outputs": [],
   "source": [
    "from sklearn.ensemble import RandomForestClassifier\n",
    "\n",
    "# Define two forests\n",
    "rf1 = RandomForestClassifier(n_estimators = 1000, max_depth = 2, n_jobs= -1)\n",
    "rf2 = RandomForestClassifier(n_estimators = 200, max_depth = 3, n_jobs= -1, class_weight='balanced')\n",
    "\n",
    "# Train both on same data\n",
    "rf1.fit (X, y)\n",
    "rf2.fit (X, y)\n",
    "\n",
    "# Run predictions on test and on train\n",
    "y_pred_rf1 = rf1.predict(X_test)\n",
    "y_pred_rf2 = rf2.predict(X_test)\n",
    "y_pred_train_rf1 = rf1.predict(X)\n",
    "y_pred_train_rf2 = rf2.predict(X)"
   ]
  },
  {
   "cell_type": "code",
   "execution_count": 66,
   "metadata": {},
   "outputs": [
    {
     "name": "stdout",
     "output_type": "stream",
     "text": [
      "Confusion Matrix Forest 1: \n",
      " [[2307   10]\n",
      " [ 316  367]] \n",
      "\n",
      "Confusion Matrix Forest 2:\n",
      " [[2138  179]\n",
      " [  60  623]] \n",
      "\n"
     ]
    }
   ],
   "source": [
    "print(\"Confusion Matrix Forest 1: \\n\", confusion_matrix(y_test, y_pred_rf1),\"\\n\")\n",
    "print(\"Confusion Matrix Forest 2:\\n\", confusion_matrix(y_test, y_pred_rf2),\"\\n\")"
   ]
  },
  {
   "cell_type": "code",
   "execution_count": 67,
   "metadata": {},
   "outputs": [
    {
     "name": "stdout",
     "output_type": "stream",
     "text": [
      "The precision for Forest 1 is  0.9734748010610079\n",
      "The recall for Forest 1 is  0.5373352855051244 \n",
      "\n",
      "The precision on Train for Forest 1 is  0.9639240506329114\n",
      "The recall on Train for Forest 1 is  0.5273545706371191 \n",
      "\n",
      "The precision for Forest 2 is  0.7768079800498753\n",
      "The recall for Forest 2 is  0.9121522693997072 \n",
      "\n",
      "The precision on Train for Forest 2 is  0.7976827094474154\n",
      "The recall on Train for Forest 2 is  0.9297091412742382 \n",
      "\n"
     ]
    }
   ],
   "source": [
    "print(\"The precision for Forest 1 is \",precision_score(y_test, y_pred_rf1)) \n",
    "print(\"The recall for Forest 1 is \",recall_score(y_test, y_pred_rf1),\"\\n\")  \n",
    "print(\"The precision on Train for Forest 1 is \",precision_score(y, y_pred_train_rf1)) \n",
    "print(\"The recall on Train for Forest 1 is \",recall_score(y, y_pred_train_rf1),\"\\n\")  \n",
    "print(\"The precision for Forest 2 is \",precision_score(y_test, y_pred_rf2)) \n",
    "print(\"The recall for Forest 2 is \",recall_score(y_test, y_pred_rf2),\"\\n\")\n",
    "print(\"The precision on Train for Forest 2 is \",precision_score(y, y_pred_train_rf2)) \n",
    "print(\"The recall on Train for Forest 2 is \",recall_score(y, y_pred_train_rf2),\"\\n\")  "
   ]
  },
  {
   "cell_type": "markdown",
   "metadata": {},
   "source": [
    "### We can see that both models are stable (model did not overfit on train data). One is stronger in precision (correct when predicting employees leaving), and the other in recall (finds more employees who are leaving)."
   ]
  },
  {
   "cell_type": "code",
   "execution_count": 69,
   "metadata": {},
   "outputs": [
    {
     "name": "stdout",
     "output_type": "stream",
     "text": [
      "Confusion Matrix Gradient Boosting: \n",
      " [[2305   12]\n",
      " [  41  642]] \n",
      "\n"
     ]
    }
   ],
   "source": [
    "from sklearn.ensemble import GradientBoostingClassifier\n",
    "gb = GradientBoostingClassifier(n_estimators=500, max_depth=3, max_features=6)\n",
    "\n",
    "# Train on same data\n",
    "gb.fit (X, y)\n",
    "\n",
    "# Run predictions on test and on train\n",
    "y_pred_gb = gb.predict(X_test)\n",
    "y_pred_train_gb = gb.predict(X)\n",
    "print(\"Confusion Matrix Gradient Boosting: \\n\", confusion_matrix(y_test, y_pred_gb),\"\\n\")"
   ]
  },
  {
   "cell_type": "code",
   "execution_count": 70,
   "metadata": {},
   "outputs": [
    {
     "name": "stdout",
     "output_type": "stream",
     "text": [
      "The precision for GBM is  0.981651376146789\n",
      "The recall for GBM is  0.9399707174231332 \n",
      "\n"
     ]
    }
   ],
   "source": [
    "print(\"The precision for GBM is \",precision_score(y_test, y_pred_gb)) \n",
    "print(\"The recall for GBM is \",recall_score(y_test, y_pred_gb),\"\\n\") "
   ]
  },
  {
   "cell_type": "markdown",
   "metadata": {},
   "source": [
    "### After running Gradient Boosting we see it has much better results - so this will probably be our choice."
   ]
  },
  {
   "cell_type": "code",
   "execution_count": 72,
   "metadata": {
    "tags": []
   },
   "outputs": [
    {
     "name": "stdout",
     "output_type": "stream",
     "text": [
      "y_test is: \n",
      " 5448     0\n",
      "1458     1\n",
      "4154     0\n",
      "11239    0\n",
      "12545    1\n",
      "4970     0\n",
      "Name: left, dtype: int64\n",
      "prediction is [0 1 0 0 1 0] \n",
      "\n",
      "prediction PROBABILITY is: [[9.99895866e-01 1.04134170e-04]\n",
      " [4.00457112e-03 9.95995429e-01]\n",
      " [9.99910854e-01 8.91464303e-05]\n",
      " [9.98402519e-01 1.59748075e-03]\n",
      " [1.05113518e-02 9.89488648e-01]\n",
      " [9.90316060e-01 9.68393959e-03]]\n"
     ]
    }
   ],
   "source": [
    "# predict using GBM\n",
    "print(\"y_test is: \\n\",y_test[17:23])\n",
    "print(\"prediction is\", gb.predict(X_test[17:23]),\"\\n\")\n",
    "print(\"prediction PROBABILITY is:\", gb.predict_proba(X_test[17:23]))"
   ]
  },
  {
   "cell_type": "markdown",
   "metadata": {},
   "source": [
    "### we can see in the small sample that GBM was more accurate that the tree prediction, and also with higher certainty"
   ]
  },
  {
   "cell_type": "markdown",
   "metadata": {},
   "source": [
    "## **Feature Importance**"
   ]
  },
  {
   "cell_type": "code",
   "execution_count": 75,
   "metadata": {},
   "outputs": [],
   "source": [
    "rf2_feature_score = rf2.feature_importances_\n",
    "gb_feature_score = gb.feature_importances_\n",
    "feature_names = list(X)"
   ]
  },
  {
   "cell_type": "code",
   "execution_count": 76,
   "metadata": {},
   "outputs": [
    {
     "data": {
      "image/png": "[encoded data removed]",
      "text/plain": [
       "<Figure size 432x288 with 1 Axes>"
      ]
     },
     "metadata": {
      "needs_background": "light"
     },
     "output_type": "display_data"
    }
   ],
   "source": [
    "df_rf2_feature_score = pd.DataFrame(data=feature_names, columns=[\"feature\"])\n",
    "df_rf2_feature_score[\"score\"]= rf2_feature_score\n",
    "df_rf2_feature_score = df_rf2_feature_score.sort_values(by=['score'], ascending=False)\n",
    "sns.barplot(y=\"feature\", x=\"score\", data=df_rf2_feature_score)\n",
    "plt.show()"
   ]
  },
  {
   "cell_type": "code",
   "execution_count": 77,
   "metadata": {},
   "outputs": [
    {
     "data": {
      "image/png": "[encoded data removed]",
      "text/plain": [
       "<Figure size 432x288 with 1 Axes>"
      ]
     },
     "metadata": {
      "needs_background": "light"
     },
     "output_type": "display_data"
    }
   ],
   "source": [
    "df_gb_feature_score = pd.DataFrame(data=feature_names, columns=[\"feature\"])\n",
    "df_gb_feature_score[\"score\"]= gb_feature_score\n",
    "df_gb_feature_score = df_gb_feature_score.sort_values(by=['score'], ascending=False)\n",
    "sns.barplot(y=\"feature\", x=\"score\", data=df_gb_feature_score)\n",
    "plt.show()"
   ]
  },
  {
   "cell_type": "markdown",
   "metadata": {},
   "source": [
    "### In both models the top important features are similar (and also very similar to what we looked at manually), but in the Boosting the Satisfaction Level feature is stronger, and others also show some changes.\n",
    "### We can also use this as a basis to understand our most significant features and then build a different (perhaps simpler) model focusing only on those."
   ]
  },
  {
   "cell_type": "code",
   "execution_count": 79,
   "metadata": {},
   "outputs": [
    {
     "data": {
      "image/png": "[encoded data removed]",
      "text/plain": [
       "<Figure size 432x288 with 1 Axes>"
      ]
     },
     "metadata": {
      "needs_background": "light"
     },
     "output_type": "display_data"
    }
   ],
   "source": [
    "# We can also do the same on the tree - adapting the features used\n",
    "\n",
    "tree2_feature_score=tree2.feature_importances_\n",
    "tree2_feature_names = list(X2)\n",
    "\n",
    "df_tree2_feature_score = pd.DataFrame(data=tree2_feature_names, columns=[\"feature\"])\n",
    "df_tree2_feature_score[\"score\"]= tree2_feature_score\n",
    "df_tree2_feature_score = df_tree2_feature_score.sort_values(by=['score'], ascending=False)\n",
    "sns.barplot(y=\"feature\", x=\"score\", data=df_tree2_feature_score)\n",
    "plt.show()"
   ]
  }
 ],
 "metadata": {
  "kernelspec": {
   "display_name": "Python 3 (ipykernel)",
   "language": "python",
   "name": "python3"
  },
  "language_info": {
   "codemirror_mode": {
    "name": "ipython",
    "version": 3
   },
   "file_extension": ".py",
   "mimetype": "text/x-python",
   "name": "python",
   "nbconvert_exporter": "python",
   "pygments_lexer": "ipython3",
   "version": "3.11.5"
  }
 },
 "nbformat": 4,
 "nbformat_minor": 4
}
